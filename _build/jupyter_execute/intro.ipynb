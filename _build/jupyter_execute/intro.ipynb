{
 "cells": [
  {
   "cell_type": "markdown",
   "id": "95fefd07-e6c9-4c49-888c-1f5e2df72faa",
   "metadata": {},
   "source": [
    "# Blue Club Dahlonega\n",
    "\n",
    "*by robb sinn*"
   ]
  },
  {
   "cell_type": "markdown",
   "id": "6962e46f-445e-4f95-abc0-01005d0fd202",
   "metadata": {},
   "source": [
    "## Fast Accuracy\n",
    "Blue Club Dahlonega recalls the greatness of the strong club system developed by the great Italian national teams of 60's and 70's. Blue Club relied upon 2 key strategies:\n",
    "\n",
    "1. Early and accurate **estimates of power** in HCP, and\n",
    "2. Quick, accurate descriptions of the **distributional features** of the hand (e.g. long or short suits)."
   ]
  },
  {
   "cell_type": "markdown",
   "id": "fa46768d-b33a-4af9-a3dc-98a82dcc8604",
   "metadata": {},
   "source": [
    "```{sidebar} **Blue Club**\n",
    "Benito Garozzo lead the development of the Blue Club system which gained popularity when used by the Italian national team in the 1960's.\n",
    "```"
   ]
  },
  {
   "cell_type": "markdown",
   "id": "b354a232-b1fa-4848-8937-4c26b09b7054",
   "metadata": {},
   "source": [
    "Three key bidding tactics help us pursue this dual target:\n",
    "\n",
    "- **Strong 1$\\clubsuit$ opening**: 17+ Points.\n",
    "- **Canape bidding** to show distributional values.\n",
    "- **4-Card majors** which add a preemptory style to Blue Club bidding.\n",
    "\n",
    "Blue Club Dahlonega hopes to create a strong club system for beginners and leverages the work of others. Alex Knox authored the brilliant [**Blue Club, Calgary Casual Style**](https://acblunit390.org/improve-your-game/blue-club-calgary-casual/) in 1999. Additional help guides and tutorials can be found by searching for *Polish Club*, *Precision Club*, *Moscito*, or *Revision Club* (an updated version of Precision)."
   ]
  },
  {
   "cell_type": "markdown",
   "id": "cc78c824-d82c-4ba1-aa9e-9c918fb5a73b",
   "metadata": {},
   "source": [
    "Strong club systems became popular becuase, for our big hands, we transmit that information to partner immediately. All Blue Club opening bids allowed ample bidding space to explore features of our holdings and potential trump fit. With canape bidding, we bid our strongest suit second. Partner knows we must have at least 9 cards in our top two suits, 4 or more in the first suit bid and 5 or more in the second. Every bridge partership is seeking a super-fit of 9 or more trumps. Why? Superfit enhances the distributional qualities of the hands making the partnership holdings more powerful. Canape bidding helps the partership identify where super-fit may be possible.\n",
    "\n",
    "Current **Standard American** bridge bidding and **2 over 1** systems require opening bids in a major suit to be 13-21 HCP with 5 or more of the suit bid. The constraints are tight in Blue Club where we open the top of this range with our strong 1$\\clubsuit$. Opening 4-card majors and using the Rule of 20, a Blue Club player opens many more hands with 1$\\heartsuit$ and 1$\\spadesuit$ than typical players. This adds a preemptive style to the system but also adds accuracy. When we're using Blue Club and partner opens with 1$\\diamondsuit$, 1$\\heartsuit$ and 1$\\spadesuit$, she has narrowed the possible range of HCP which makes follow-on bidding much simpler and more effective.\n",
    "\n",
    "One problem for Blue Club players is that they don't have a natural 1$\\clubsuit$ opening bid. With 4-card majors and canape bids, we have a great deal of flexibility to show strength in clubs that overcomes many disadvantages. "
   ]
  },
  {
   "cell_type": "markdown",
   "id": "6bfcbf05-40f9-4f70-b0fb-d4926b822835",
   "metadata": {},
   "source": [
    "## Natural Bidding Systems\n",
    "\n",
    "The problem of accuracy has led to a multiplicity of bridge bidding conventions. Transfer bids, inverted minors, and Drury bids exemplify how unnatural many bids can be. Less natural bidding can result in a misunderstanding between the partners. The more natural the bid is, the more likely partner will know how to respond. Seeking accuracy for every eventuality results in a problem of memory -- to much information to remember easily at the bridge table.\n",
    "\n",
    "Of course, many bridge hands are thorny and provide challenges to natural bidding. Hence, we need **some** conventions. In this system we will use the following conventions:\n",
    "\n",
    "- Stayman\n",
    "- Splinters\n",
    "- Cue Bids\n",
    "- Roman Key Card 1430 (Blackwood)\n",
    "\n",
    "The rest of the system remains as natural as possible. In this way, the partnership doesn't trick itself into a nonsense contract. Also, this system is the beginning for a partnership wishing to learn a Strong Club system. As the partnership develops an understanding of the bidding and play using Blue Club Dahlonega, additional conventions and agreements can be added."
   ]
  },
  {
   "cell_type": "markdown",
   "id": "d68cb2ed-1432-474a-8005-b3c1d20178da",
   "metadata": {},
   "source": [
    "## Hand Evaluation\n",
    "\n",
    "Most bridge players have a way to combine **distributional points** (DP) to the traditional **High Card Points** (HCP) where:\n",
    "\n",
    "$$\\text{Total Points} = \\text{HCP} + \\text{DP}$$\n",
    "\n",
    "We will use add DP for every additional card in a long suit beyond 4. We add 2 DP for a void suit and 1 DP for a singleton. As with natural bidding, we wish for the counting of Total Points to be easily remembered. Do some players use more complicated ways to evaluate the power of a hand? Of course, they do. Is it needed? At some level, surely it is, but in the beginning stages of a partnership learning Blue Club Dahlonega.\n",
    "\n",
    "To further evaluate the distributional properties of a hand, this system includes three additional ideas:\n",
    "\n",
    "1. **Rule of 20.** This rule identifies whether a specific hand has the strength to be opened with 1$\\diamondsuit$, 1$\\heartsuit$ or 1$\\spadesuit$. The Rule of 20 says that, provided the number of cards in our 2 longest suits plus our HCP is at least 20, we can open with 1$\\clubsuit$, 1$\\heartsuit$ or 1$\\spadesuit$. The Rule of 20 allows us to open some hands with only 11 HCP.\n",
    "2. **Controls.** Control of suit means a singleton or void or a suit holding like Kx. First round control means we have the first winner in the suit, something like a void or a singleton Ace. Second round control indicates we have the second winner in the suit such as Kx or a small singleton.\n",
    "3. **Bad Shape.** The worst hands in bridge have a 4-3-3-3 distribution. A 4-3-3-3 hand plays worse than it's HCP would indicate. We will discount by one HCP all hands with a 4-3-3-3 shape."
   ]
  },
  {
   "cell_type": "markdown",
   "id": "f7d3adb6-94f7-4e79-8dd5-4dd9dd30ddec",
   "metadata": {},
   "source": [
    "## Intial Code Block\n",
    "\n",
    "Let's highlight the packages that we will require:\n",
    "1. endplay (bridge and card evaluation functions)\n",
    "2. datascience (tables, etc.)\n",
    "3. numpy\n",
    "4. scipy.stats (evaluation of information from tables)\n",
    "\n",
    "You can see the initial code block we will need detailed below. Notice that we load matplotlib and use the style created by the folks at 538."
   ]
  },
  {
   "cell_type": "code",
   "execution_count": 1,
   "id": "cd35a6f1-98a2-434a-be5f-85e5a23587a8",
   "metadata": {},
   "outputs": [],
   "source": [
    "# Standard Datascience initialization code.\n",
    "\n",
    "from datascience import *\n",
    "%matplotlib inline\n",
    "import matplotlib.pyplot as plots\n",
    "plots.style.use('fivethirtyeight')\n",
    "import numpy as np\n",
    "import scipy.stats as stats\n",
    "from endplay import *"
   ]
  }
 ],
 "metadata": {
  "kernelspec": {
   "display_name": "Python 3 (ipykernel)",
   "language": "python",
   "name": "python3"
  },
  "language_info": {
   "codemirror_mode": {
    "name": "ipython",
    "version": 3
   },
   "file_extension": ".py",
   "mimetype": "text/x-python",
   "name": "python",
   "nbconvert_exporter": "python",
   "pygments_lexer": "ipython3",
   "version": "3.12.8"
  }
 },
 "nbformat": 4,
 "nbformat_minor": 5
}