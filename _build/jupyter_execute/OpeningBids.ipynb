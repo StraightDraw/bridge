{
 "cells": [
  {
   "cell_type": "markdown",
   "id": "ac395423-8eb9-45f5-ace6-353eda15606b",
   "metadata": {},
   "source": [
    "# Opening Bids\n",
    "\n",
    "The strong club nature of Blue Club Dahlonega is obvious in the opening bid charts shown below:"
   ]
  },
  {
   "cell_type": "markdown",
   "id": "e6d41bac-335b-40b9-9b7f-9845414adf57",
   "metadata": {},
   "source": [
    "<table style=\"width:80%\">\n",
    "  <colgroup>\n",
    "    <col span=\"1\" style=\"width: 15%;\">\n",
    "    <col span=\"1\" style=\"width: 20%;\">\n",
    "    <col span=\"1\" style=\"width: 65%;\">\n",
    "  </colgroup>\n",
    "  <tr>\n",
    "    <th>Bid</th>\n",
    "    <th>High Card Points</th> \n",
    "    <th>Meaning</th>\n",
    "  </tr>\n",
    "  <tr>\n",
    "    <td style=\"text-align: center; vertical-align: middle;\">1$\\clubsuit$</td>\n",
    "    <td style=\"text-align: center; vertical-align: middle;\">17 - 21</td>\n",
    "    <td>Big hand, likely distributional.</td>\n",
    "  </tr>\n",
    "  <tr>\n",
    "    <td style=\"text-align: center; vertical-align: middle;\">1$\\diamondsuit$ 1$\\heartsuit$ 1$\\spadesuit$</td>\n",
    "    <td style=\"text-align: center; vertical-align: middle;\">12 - 16</td>\n",
    "    <td>Standard opener: 4+ trumps but can open light.</br>For 10-12 HCP, hand must satisfy <span style = 'color:purple;font-weight:bold'>Rule of 20</span>.</td>\n",
    "  </tr>\n",
    "  <tr>\n",
    "    <td style=\"text-align: center; vertical-align: middle;\">1NT</td>\n",
    "    <td style=\"text-align: center; vertical-align: middle;\">15 - 17</td>\n",
    "    <td>Balanced hand with no voids or singeltons  where any doubleton has 3+ HCP.</br>May have a 4-card major.</td>\n",
    "  </tr>\n",
    "  <tr>\n",
    "    <td style=\"text-align: center; vertical-align: middle;\">1$\\clubsuit$ + jump</td>\n",
    "    <td style=\"text-align: center; vertical-align: middle;\">22+</td>\n",
    "    <td>Signal a <span style = 'color:purple;font-weight:bold'>Monster hand</span> by opening 1$\\clubsuit$ with a jump-raise rebid.</td>\n",
    "  </tr>\n",
    "  <tr><th colspan=\"3\"><span style = 'color:blue'>Big Balanced Hands</span></th></tr>\n",
    "  <tr>\n",
    "    <td style=\"text-align: center; vertical-align: middle;\">2NT</td>\n",
    "    <td style=\"text-align: center; vertical-align: middle;\">18 - 20</td>\n",
    "    <td>Balanced: shape is 4333, 4432 or 5433 where any doubleton has 3+ HCP.</br>A 4-card major is possible.</td>\n",
    "  </tr>\n",
    "  <tr>\n",
    "    <td style=\"text-align: center; vertical-align: middle;\">3NT</td>\n",
    "    <td style=\"text-align: center; vertical-align: middle;\">21 - 23</td>\n",
    "    <td>Balanced (as above); may have 4-card major.</td>\n",
    "  </tr>\n",
    "  <tr><th colspan=\"3\"><span style = 'color:blue'>Preemptive Hands</span></th></tr>\n",
    "\n",
    "  <tr>\n",
    "    <td style=\"text-align: center; vertical-align: middle;\">2$\\clubsuit$ 2$\\diamondsuit$ 2$\\heartsuit$ 2$\\spadesuit$</td>\n",
    "    <td style=\"text-align: center; vertical-align: middle;\">7 - 11</td>\n",
    "    <td>Weak 2 bid with <span style = 'color:purple;font-weight:bold'>at least 6 cards</span> in the suit bid. We can bid this with only 5 cards if we have KJxxx or better.</td>\n",
    "  </tr>\n",
    "  <tr>\n",
    "    <td style=\"text-align: center; vertical-align: middle;\">3$\\clubsuit$ 3$\\diamondsuit$ 3$\\heartsuit$ 3$\\spadesuit$</td>\n",
    "    <td style=\"text-align: center; vertical-align: middle;\">7 - 11</td>\n",
    "    <td>Preemptive with <span style = 'color:purple;font-weight:bold'>at least 7 cards</span> in the suit bid.</td>\n",
    "  </tr>\n",
    "</table>"
   ]
  },
  {
   "cell_type": "markdown",
   "id": "b8ebde0b-5497-417e-9ad7-5778825f900c",
   "metadata": {},
   "source": [
    "## Preemptive Bids\n",
    "\n",
    "Suit bids at levels 2 and 3 are preemptive. Caution should be used if we try a preempt before partner has had a chance to bid. A passed hand is much better than the misfortune of preempting partner rather than the opponents. A level 4 preempt should never be needed."
   ]
  },
  {
   "cell_type": "markdown",
   "id": "eaef46d6-0fe4-450a-834a-3713b7be0e1b",
   "metadata": {},
   "source": [
    "## Opening Clubs\n",
    "\n",
    "Since 1$\\clubsuit$ is artificial, what do we do with these hands?\n",
    "\n",
    "- 4+ $\\clubsuit$\n",
    "- 12-16 points\n",
    "- 3 or less in other suits\n",
    "\n",
    "With 12-14 and a 4-card suit other than clubs, we can open the other suit. Since we have 4-4 and not 4-5, we cannot canape. We rebid NT, then show the clubs in this case. The other two options take more thought:\n",
    "\n",
    "1. With 15-16, we try to bid 1NT if that is in any way possible.\n",
    "2. With 12-14 points and no other suit with more than 3 cards, we may open it as a weak 2.\n",
    "\n",
    "Thus, the 2$\\clubsuit$ opening bid indicates 7-14 points and 4+ clubs, or an unbalanced 15-16 points.\n",
    "\n",
    "**Problematic Shape: 4333**\n",
    "\n",
    "Be careful with 4333 hands when we have 4 $\\clubsuit$. We may be better passing these hands rather than opening them. If 15+ points, bid 1NT. Otherwise, be very, very careful."
   ]
  },
  {
   "cell_type": "markdown",
   "id": "83de5707-73b8-47d8-b039-7fec9e53686d",
   "metadata": {},
   "source": [
    "## Canape Rebids\n",
    "\n",
    "With a 2-suiter, Blue Club uses canape bids. For shapes like 54xx or 64xx, we bid the 4-card suit first and the longer suit second. \n",
    "\n",
    "If we open 1$\\diamondsuit$, 1$\\heartsuit$ or 1$\\spadesuit$, a jump canape doesn't suggest more points. These bids have an upper limit of 16 points, so the jump canape indicates the longer suit has 6+ cards."
   ]
  },
  {
   "cell_type": "markdown",
   "id": "83bc9571-d825-4529-bc77-5cee1f0a89eb",
   "metadata": {},
   "source": [
    "## Canape into Clubs\n",
    "\n",
    "If we have a 54xx shape with 4$\\clubsuit$ and 5$\\heartsuit$, we have no way from clubs into hearts. For a canape bid into $\\clubsuit$, we have this understanding. We do indeed have a 2-suiter, but the lengths may be reversed. Consider that partner opens and rebids as follows:\n",
    "\n",
    "<center>Open: $1\\heartsuit$</br>Rebid: 1$\\clubsuit$\n",
    "</center>\n",
    "\n",
    "We know that her shape is 54xx with either 5+ $\\heartsuit$ or 5+ $\\clubsuit$."
   ]
  },
  {
   "cell_type": "code",
   "execution_count": null,
   "id": "009110be-23e0-4c54-995b-cca7613da19a",
   "metadata": {},
   "outputs": [],
   "source": []
  }
 ],
 "metadata": {
  "kernelspec": {
   "display_name": "Python 3 (ipykernel)",
   "language": "python",
   "name": "python3"
  },
  "language_info": {
   "codemirror_mode": {
    "name": "ipython",
    "version": 3
   },
   "file_extension": ".py",
   "mimetype": "text/x-python",
   "name": "python",
   "nbconvert_exporter": "python",
   "pygments_lexer": "ipython3",
   "version": "3.13.5"
  }
 },
 "nbformat": 4,
 "nbformat_minor": 5
}