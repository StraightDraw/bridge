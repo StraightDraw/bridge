{
 "cells": [
  {
   "cell_type": "markdown",
   "id": "67e78a43-3ff7-4b07-8b26-1633f3a8a078",
   "metadata": {},
   "source": [
    "# Bidding Strategy\n",
    "\n",
    "In Blue Club, we prefer bids that quickly narrow the possible strength of our hand in terms of points. The $1\\clubsuit$ bid identifies a strong hand but also limits all the other suit bids at the level of one. Responders bids also limit his hand in the same way, so the partnership quickly knows if they have the combined strength for game or slam.\n",
    "\n",
    "While strength in points is vital for a partnership, suits and fit are more important. Combined, a bridge partnership needs 8 trumps. Superfit of 9 or more trumps is worth a great deal, so early bids should be capable of alerting partner to interesting features like a long suit or, perhaps, a singleton or void suit."
   ]
  },
  {
   "cell_type": "markdown",
   "id": "c490c9e1-fd9b-479e-a4a4-40bd367f072e",
   "metadata": {},
   "source": [
    "## Hand Strength\n",
    "\n",
    "Bidding narrows our strength to a 5-point range except in No Trump, where the bids as is typical for most systems identify a balanced hand and a 3-point range. The following chart summarizes our possible hands in terms of strength."
   ]
  },
  {
   "cell_type": "markdown",
   "id": "1d5f0f61-4d5e-4bb3-9df1-476594943935",
   "metadata": {},
   "source": [
    "<table style=\"width:75%\">\n",
    "  <tr>\n",
    "    <th>Hand</th>\n",
    "    <th>Points</th> \n",
    "    <th>Description</th>\n",
    "  </tr>\n",
    "  <tr>\n",
    "    <td>Weak</td>\n",
    "    <td>7-11</td>\n",
    "    <td>Say something here.</td>\n",
    "  </tr>\n",
    "  <tr>\n",
    "    <td>Standard</td>\n",
    "    <td>12-16</td>\n",
    "    <td>Standard level-one opener.</td>\n",
    "  </tr>\n",
    "  <tr>\n",
    "    <td>Strong</td>\n",
    "    <td>17-21</td>\n",
    "    <td>Any hand that is not balanced and has at least 17 points.</td>\n",
    "  </tr>\n",
    "  <tr>\n",
    "    <td>Monster</td>\n",
    "    <td>22+</td>\n",
    "    <td>Any hand that contains at least 22 points.</td>\n",
    "  </tr>\n",
    "</table>"
   ]
  },
  {
   "cell_type": "code",
   "execution_count": null,
   "id": "37ee4e8b-de98-4064-b463-884d5f77e4cd",
   "metadata": {},
   "outputs": [],
   "source": []
  }
 ],
 "metadata": {
  "kernelspec": {
   "display_name": "Python 3 (ipykernel)",
   "language": "python",
   "name": "python3"
  },
  "language_info": {
   "codemirror_mode": {
    "name": "ipython",
    "version": 3
   },
   "file_extension": ".py",
   "mimetype": "text/x-python",
   "name": "python",
   "nbconvert_exporter": "python",
   "pygments_lexer": "ipython3",
   "version": "3.13.5"
  }
 },
 "nbformat": 4,
 "nbformat_minor": 5
}