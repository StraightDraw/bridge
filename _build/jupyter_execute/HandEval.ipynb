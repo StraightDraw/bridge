{
 "cells": [
  {
   "cell_type": "markdown",
   "id": "b2db405b-64d0-4f6d-a814-0b33b7f7330f",
   "metadata": {},
   "source": [
    "# Hand Evaluation\n",
    "\n",
    "To describe both the strength in points and the shape of our hand in Blue Club Dahlonega bidding, we need ways to evaluate a bridge hand. Specifically, we wish for these ideas to be evaluated successfully by the computer."
   ]
  },
  {
   "cell_type": "markdown",
   "id": "ee06242b-df63-4d02-b4c6-639ea96b4288",
   "metadata": {},
   "source": [
    "## Points\n",
    "\n",
    "Blue Club Dahlonega evaluates strength in points by adding **High Card Points** to **Distributional Points**:\n",
    "\n",
    "$$\\text{Points} = \\text{HCP} + \\text{DP}$$\n",
    "\n",
    "The specifics of HCP and DP are shown in the drop-downs below:"
   ]
  },
  {
   "cell_type": "markdown",
   "id": "a0c0bbd9-812a-48c0-bb61-dd8040323faf",
   "metadata": {},
   "source": [
    "::::{grid}\n",
    ":gutter: 5\n",
    "\n",
    ":::{grid-item-card} High Card Points\n",
    "```{dropdown} HCP\n",
    "- Aces: 4 points\n",
    "- Kings: 3 points\n",
    "- Queens: 2 points\n",
    "- Jacks: 1 point\n",
    "```\n",
    ":::\n",
    "\n",
    ":::{grid-item-card} Distributional Points\n",
    "```{dropdown} DP\n",
    "- Add 1 DP for every card in a long suit beyond 4.\n",
    "- Add 2 DP for a void suit.\n",
    "- Add 1 DP for a singleton.\n",
    "```"
   ]
  },
  {
   "cell_type": "markdown",
   "id": "118291f1-11c3-4918-8de9-a8722c1ee5d3",
   "metadata": {},
   "source": [
    "## Shape\n",
    "\n",
    "Bridge hands can be either\n",
    "\n",
    "1. Balanced, or\n",
    "2. Distributional\n",
    "\n",
    "<span style='color:blue;font-weight:bold'>Distributional hands play better in a suit contract</span> while <span style='color:blue;font-weight:bold'>balanced hands play well in No Trump</span>. In Blue Club Dahlonega, No Trump bids indicate at minimum a semi-blanced hand while suit bids indicate one that is not."
   ]
  },
  {
   "cell_type": "markdown",
   "id": "893f5536-da04-4c1b-9d4c-79ee58db7a0f",
   "metadata": {},
   "source": []
  }
 ],
 "metadata": {
  "kernelspec": {
   "display_name": "Python 3 (ipykernel)",
   "language": "python",
   "name": "python3"
  },
  "language_info": {
   "codemirror_mode": {
    "name": "ipython",
    "version": 3
   },
   "file_extension": ".py",
   "mimetype": "text/x-python",
   "name": "python",
   "nbconvert_exporter": "python",
   "pygments_lexer": "ipython3",
   "version": "3.13.5"
  }
 },
 "nbformat": 4,
 "nbformat_minor": 5
}