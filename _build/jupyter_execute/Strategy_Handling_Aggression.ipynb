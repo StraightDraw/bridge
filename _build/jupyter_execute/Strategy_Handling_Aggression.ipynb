{
 "cells": [
  {
   "cell_type": "markdown",
   "id": "02c1eab7-d59e-4b3a-9e11-1b288ee511d5",
   "metadata": {},
   "source": [
    "# Strategy: Handling Aggression\n",
    "\n",
    "The opponents of a strong club pair in bridge will likely use overcalls and other aggression to fight against the strong club system."
   ]
  },
  {
   "cell_type": "code",
   "execution_count": null,
   "id": "fb0c11c0-ede9-48f1-b4da-72c70f50ca18",
   "metadata": {},
   "outputs": [],
   "source": []
  }
 ],
 "metadata": {
  "kernelspec": {
   "display_name": "Python 3 (ipykernel)",
   "language": "python",
   "name": "python3"
  },
  "language_info": {
   "codemirror_mode": {
    "name": "ipython",
    "version": 3
   },
   "file_extension": ".py",
   "mimetype": "text/x-python",
   "name": "python",
   "nbconvert_exporter": "python",
   "pygments_lexer": "ipython3",
   "version": "3.13.5"
  }
 },
 "nbformat": 4,
 "nbformat_minor": 5
}