{
 "cells": [
  {
   "cell_type": "markdown",
   "id": "b4af96ac-0c31-4778-83d3-8342ee70a977",
   "metadata": {},
   "source": [
    "# Blue Club Functions"
   ]
  },
  {
   "cell_type": "code",
   "execution_count": 1,
   "id": "f9e704f9-58ef-4d31-93e5-493270c09bf5",
   "metadata": {},
   "outputs": [],
   "source": [
    "from datascience import *\n",
    "%matplotlib inline\n",
    "import matplotlib.pyplot as plots\n",
    "plots.style.use('fivethirtyeight')\n",
    "import numpy as np\n",
    "import scipy.stats as stats\n",
    "from endplay import *"
   ]
  },
  {
   "cell_type": "code",
   "execution_count": 2,
   "id": "85264d45-40e4-48a7-8261-c341c82fec66",
   "metadata": {},
   "outputs": [],
   "source": [
    "def points_rs(hnd):\n",
    "   long = 0\n",
    "   short = dist_points(hnd, [2, 1, 0, 0])\n",
    "   L1 = dist_points(hnd, [0, 0, 0, 0, 0, 1])\n",
    "   L2 = dist_points(hnd, [0, 0, 0, 0, 0, 0, 2])\n",
    "   L3 = dist_points(hnd, [0, 0, 0, 0, 0, 0, 0, 3])\n",
    "   L4 = dist_points(hnd, [0, 0, 0, 0, 0, 0, 0, 0, 4])\n",
    "   L5 = dist_points(hnd, [0, 0, 0, 0, 0, 0, 0, 0, 0, 5])\n",
    "   L6 = dist_points(hnd, [0, 0, 0, 0, 0, 0, 0, 0, 0, 0, 6])\n",
    "   L7 = dist_points(hnd, [0, 0, 0, 0, 0, 0, 0, 0, 0, 0, 0, 7])\n",
    "   long = max(L1, L2, L3, L4, L5, L6, L7)\n",
    "   if (shape(hnd) == [5,5,3,0] or shape(hnd) == [5,5,2,1]):\n",
    "      long = long +1\n",
    "   if (shape(hnd) == [6,5,2,0] or shape(hnd) == [6,5,1,1]):\n",
    "      long = long +1\n",
    "   if (shape(hnd) == [6,6,1,0]):\n",
    "      long = long +2\n",
    "   if (shape(hnd) == [7,5,1,0]):\n",
    "      long = long +1\n",
    "   if (shape(hnd) == [7,6,0,0]):\n",
    "      long = long +2\n",
    "   if (shape(hnd) == [8,5,0,0]):\n",
    "      long = long +1\n",
    "   totalPts = short + long + hcp(hnd)\n",
    "   return totalPts"
   ]
  },
  {
   "cell_type": "code",
   "execution_count": 3,
   "id": "66bb0727-efcf-436a-964b-ef8bc0e6ae87",
   "metadata": {},
   "outputs": [],
   "source": [
    "def rule20(h):\n",
    "   TF = False\n",
    "   if (hcp(h) + shape(h)[0] + shape(h)[1]) >= 20:\n",
    "      TF = True\n",
    "   return TF"
   ]
  },
  {
   "cell_type": "code",
   "execution_count": 4,
   "id": "2fe34eae-7170-421f-ad56-0639488b87ec",
   "metadata": {},
   "outputs": [],
   "source": [
    "def bid_qual(soot):\n",
    "   if (len(soot) == 0):\n",
    "      eval = 0 ;\n",
    "   else:\n",
    "      eval = len(soot) + ( hcp(soot) / 10 )\n",
    "   return eval"
   ]
  },
  {
   "cell_type": "code",
   "execution_count": 5,
   "id": "cf8636e7-7ccd-4a22-907c-398acac98203",
   "metadata": {},
   "outputs": [],
   "source": [
    "def quals(h):\n",
    "   sq = bid_qual(h.spades) ; hq = bid_qual(h.hearts) ; dq = bid_qual(h.diamonds) ; cq = bid_qual(h.clubs) ;\n",
    "   q = make_array(sq, hq, dq, cq)\n",
    "   return q"
   ]
  },
  {
   "cell_type": "code",
   "execution_count": 6,
   "id": "759aa919-1f74-46a9-a446-8d89fe448f98",
   "metadata": {},
   "outputs": [],
   "source": [
    "def control(soot):\n",
    "   length = len(soot)\n",
    "   control = 0\n",
    "   if (length == 0):\n",
    "      control = 1\n",
    "   if (length == 1 and hcp(soot) == 0):\n",
    "      control = 2\n",
    "   if (length == 1 and soot.__contains__('A')):\n",
    "      control = 1\n",
    "   if (length == 2 and soot.__contains__('A')):\n",
    "      control = 1\n",
    "   if (length == 2 and hcp(soot) == 3 and soot.__contains__('K')):\n",
    "      control = 2\n",
    "   return control"
   ]
  },
  {
   "cell_type": "code",
   "execution_count": 7,
   "id": "c935e7f4-4692-4cd5-8928-48fcbb0f2307",
   "metadata": {},
   "outputs": [],
   "source": [
    "def make_bid_table(hnd):\n",
    "   control_array = make_array( control(hnd.spades) , control(hnd.hearts) , control(hnd.diamonds) , control(hnd.clubs) )\n",
    "   array_hcp = make_array(hcp(hnd.spades),hcp(hnd.hearts),hcp(hnd.diamonds),hcp(hnd.clubs))\n",
    "   array_length = exact_shape(hnd)\n",
    "   array_titles = make_array('Spades','Hearts','Diamonds','Clubs')\n",
    "   q = quals(hnd)\n",
    "   bid_tab = Table().with_columns('Suit', array_titles, 'Length', array_length, 'HCP', array_hcp, 'Controls', control_array, 'Bid Quality', q)\n",
    "   return bid_tab"
   ]
  },
  {
   "cell_type": "code",
   "execution_count": 8,
   "id": "97902ee3-11ff-4035-83b8-c42b9a61cc97",
   "metadata": {},
   "outputs": [],
   "source": [
    "def balanced(hnd):\n",
    "   ball = False\n",
    "   if ( shape(hnd) == [4,3,3,3] ):\n",
    "      ball = True\n",
    "   elif ( shape(hnd) == [4,4,3,2] ):\n",
    "      ball = True\n",
    "   elif (shape(hnd) == [5,3,3,2] ):\n",
    "      ball = True\n",
    "   return ball"
   ]
  },
  {
   "cell_type": "code",
   "execution_count": 9,
   "id": "ccf61273-7b4a-4f33-b096-49ce5f051c52",
   "metadata": {},
   "outputs": [],
   "source": [
    "def notrump(hnd):\n",
    "   NT = False\n",
    "   if ( balanced(hnd) ):\n",
    "      if (hcp(hnd) >= 15 and hcp(hnd) <= 23 ):\n",
    "         NT = True\n",
    "   if ( len(hnd.spades) == 2 and hcp(hnd.spades) < 3):\n",
    "      NT = False\n",
    "   elif(len(hnd.hearts) == 2 and hcp(hnd.hearts) < 3):\n",
    "      NT = False\n",
    "   elif(len(hnd.diamonds) == 2 and hcp(hnd.diamonds) < 3):\n",
    "      NT = False\n",
    "   elif(len(hnd.clubs) == 2 and hcp(hnd.clubs) < 3):\n",
    "      NT = False \n",
    "   return NT"
   ]
  },
  {
   "cell_type": "code",
   "execution_count": 10,
   "id": "e7ec3999-a754-4dee-9d23-0793abb268a6",
   "metadata": {},
   "outputs": [],
   "source": [
    "def strong_club(hnd):\n",
    "   sc = False\n",
    "   if ( points_rs(hnd) >= 17 ):\n",
    "      sc = True\n",
    "   return sc"
   ]
  },
  {
   "cell_type": "code",
   "execution_count": 11,
   "id": "5d832410-95a6-4466-9b05-40c9361ccfea",
   "metadata": {},
   "outputs": [],
   "source": [
    "def standard(hnd):\n",
    "   std = False; std_pts = False;\n",
    "   if ( points_rs(hnd) >= 12 and points_rs(hnd) <= 16 ):\n",
    "      std_pts = True\n",
    "   if ( std_pts and rule20(hnd) ):\n",
    "      std = True\n",
    "   return std"
   ]
  },
  {
   "cell_type": "code",
   "execution_count": 12,
   "id": "8615caa7-b3bb-45d8-b761-298bb4df52b9",
   "metadata": {},
   "outputs": [],
   "source": [
    "def twosuiter(hnd):\n",
    "   ts = False; t = shape(hand)\n",
    "   if ( t[0] >= 5 and t[1] >= 4 ):\n",
    "      ts = True\n",
    "   return ts"
   ]
  },
  {
   "cell_type": "code",
   "execution_count": 13,
   "id": "ca55a31f-b766-4de6-9f38-4fbc667943f1",
   "metadata": {},
   "outputs": [
    {
     "name": "stdout",
     "output_type": "stream",
     "text": [
      "♠ KT2\n",
      "♥ AQ85\n",
      "♦ K5\n",
      "♣ AQJ7\n",
      "Total points = 19  or RS points =  19\n",
      "   The hand is a Standard Opener:  False\n",
      "   The hand is a 2-suiter:  False\n",
      "       The distributional points:  1\n",
      "       The RS distributional points:  0\n",
      "           The hand is a NoTrump opener:  True\n"
     ]
    },
    {
     "data": {
      "text/html": [
       "<table border=\"1\" class=\"dataframe\">\n",
       "    <thead>\n",
       "        <tr>\n",
       "            <th>Suit</th> <th>Length</th> <th>HCP</th> <th>Controls</th> <th>Bid Quality</th>\n",
       "        </tr>\n",
       "    </thead>\n",
       "    <tbody>\n",
       "        <tr>\n",
       "            <td>Spades  </td> <td>3     </td> <td>3   </td> <td>0       </td> <td>3.3        </td>\n",
       "        </tr>\n",
       "        <tr>\n",
       "            <td>Hearts  </td> <td>4     </td> <td>6   </td> <td>0       </td> <td>4.6        </td>\n",
       "        </tr>\n",
       "        <tr>\n",
       "            <td>Diamonds</td> <td>2     </td> <td>3   </td> <td>2       </td> <td>2.3        </td>\n",
       "        </tr>\n",
       "        <tr>\n",
       "            <td>Clubs   </td> <td>4     </td> <td>7   </td> <td>0       </td> <td>4.7        </td>\n",
       "        </tr>\n",
       "    </tbody>\n",
       "</table>"
      ],
      "text/plain": [
       "Suit     | Length | HCP  | Controls | Bid Quality\n",
       "Spades   | 3      | 3    | 0        | 3.3\n",
       "Hearts   | 4      | 6    | 0        | 4.6\n",
       "Diamonds | 2      | 3    | 2        | 2.3\n",
       "Clubs    | 4      | 7    | 0        | 4.7"
      ]
     },
     "execution_count": 13,
     "metadata": {},
     "output_type": "execute_result"
    }
   ],
   "source": [
    "d2 = generate_deal('hcp(north) >= 15 && shape(north, any 4xxx) # + 65xx + any 75xx + any 7xxx + any 8xxx)')\n",
    "hand = d2.north\n",
    "hand.pprint()\n",
    "print('Total points =' , hcp(hand), ' or RS points = ', points_rs(hand))\n",
    "print('   The hand is a Standard Opener: ', standard(hand))\n",
    "print('   The hand is a 2-suiter: ', twosuiter(hand))\n",
    "print('       The distributional points: ', dist_points(hand))\n",
    "print('       The RS distributional points: ', points_rs(hand) - hcp(hand))\n",
    "print('           The hand is a NoTrump opener: ', notrump(hand))\n",
    "make_bid_table(hand)"
   ]
  },
  {
   "cell_type": "code",
   "execution_count": null,
   "id": "bebb73d0-be8f-4a93-ae09-1792a9af0947",
   "metadata": {},
   "outputs": [],
   "source": []
  },
  {
   "cell_type": "code",
   "execution_count": null,
   "id": "df80b3d5-35f0-484a-a928-45cb38cf03cf",
   "metadata": {},
   "outputs": [],
   "source": []
  },
  {
   "cell_type": "code",
   "execution_count": null,
   "id": "3942bce6-bccf-4354-8cf5-9d73b3a882d4",
   "metadata": {},
   "outputs": [],
   "source": []
  },
  {
   "cell_type": "code",
   "execution_count": 14,
   "id": "f7634622-4a89-4cc5-bb10-b17a3ae8be38",
   "metadata": {},
   "outputs": [
    {
     "data": {
      "text/plain": [
       "[5, 4, 4, 0]"
      ]
     },
     "execution_count": 14,
     "metadata": {},
     "output_type": "execute_result"
    }
   ],
   "source": [
    "h2 = Hand('KT87.AQ987.KJ95.')\n",
    "t = shape(h2)\n",
    "t"
   ]
  },
  {
   "cell_type": "code",
   "execution_count": 15,
   "id": "a0211fee-0f17-4c73-8bb5-11471acbb89c",
   "metadata": {},
   "outputs": [
    {
     "data": {
      "text/plain": [
       "5"
      ]
     },
     "execution_count": 15,
     "metadata": {},
     "output_type": "execute_result"
    }
   ],
   "source": [
    "t[0]"
   ]
  },
  {
   "cell_type": "code",
   "execution_count": null,
   "id": "bc56ab59-7393-4136-b6db-cfabcc74f398",
   "metadata": {},
   "outputs": [],
   "source": []
  }
 ],
 "metadata": {
  "kernelspec": {
   "display_name": "Python 3 (ipykernel)",
   "language": "python",
   "name": "python3"
  },
  "language_info": {
   "codemirror_mode": {
    "name": "ipython",
    "version": 3
   },
   "file_extension": ".py",
   "mimetype": "text/x-python",
   "name": "python",
   "nbconvert_exporter": "python",
   "pygments_lexer": "ipython3",
   "version": "3.13.5"
  }
 },
 "nbformat": 4,
 "nbformat_minor": 5
}