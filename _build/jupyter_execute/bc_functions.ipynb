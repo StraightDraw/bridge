{
 "cells": [
  {
   "cell_type": "markdown",
   "id": "b4af96ac-0c31-4778-83d3-8342ee70a977",
   "metadata": {},
   "source": [
    "# Blue Club Functions"
   ]
  },
  {
   "cell_type": "code",
   "execution_count": 1,
   "id": "f9e704f9-58ef-4d31-93e5-493270c09bf5",
   "metadata": {},
   "outputs": [],
   "source": [
    "from datascience import *\n",
    "%matplotlib inline\n",
    "import matplotlib.pyplot as plots\n",
    "plots.style.use('fivethirtyeight')\n",
    "import numpy as np\n",
    "import scipy.stats as stats\n",
    "from endplay import *"
   ]
  },
  {
   "cell_type": "code",
   "execution_count": 2,
   "id": "85264d45-40e4-48a7-8261-c341c82fec66",
   "metadata": {},
   "outputs": [],
   "source": [
    "def points_rs(hnd):\n",
    "   long = 0\n",
    "   short = dist_points(hnd, [2, 1, 0, 0])\n",
    "   L1 = dist_points(hnd, [0, 0, 0, 0, 0, 1])\n",
    "   L2 = dist_points(hnd, [0, 0, 0, 0, 0, 0, 2])\n",
    "   L3 = dist_points(hnd, [0, 0, 0, 0, 0, 0, 0, 3])\n",
    "   L4 = dist_points(hnd, [0, 0, 0, 0, 0, 0, 0, 0, 4])\n",
    "   L5 = dist_points(hnd, [0, 0, 0, 0, 0, 0, 0, 0, 0, 5])\n",
    "   L6 = dist_points(hnd, [0, 0, 0, 0, 0, 0, 0, 0, 0, 0, 6])\n",
    "   L7 = dist_points(hnd, [0, 0, 0, 0, 0, 0, 0, 0, 0, 0, 0, 7])\n",
    "   long = max(L1, L2, L3, L4, L5, L6, L7)\n",
    "   if (shape(hnd) == [5,5,3,0] or shape(hnd) == [5,5,2,1]):\n",
    "      long = long +1\n",
    "   if (shape(hnd) == [6,5,2,0] or shape(hnd) == [6,5,1,1]):\n",
    "      long = long +1\n",
    "   if (shape(hnd) == [6,6,1,0]):\n",
    "      long = long +2\n",
    "   if (shape(hnd) == [7,5,1,0]):\n",
    "      long = long +1\n",
    "   if (shape(hnd) == [7,6,0,0]):\n",
    "      long = long +2\n",
    "   if (shape(hnd) == [8,5,0,0]):\n",
    "      long = long +1\n",
    "   totalPts = short + long + hcp(hnd)\n",
    "   return totalPts"
   ]
  },
  {
   "cell_type": "code",
   "execution_count": 3,
   "id": "66bb0727-efcf-436a-964b-ef8bc0e6ae87",
   "metadata": {},
   "outputs": [],
   "source": [
    "def rule20(h):\n",
    "   TF = False\n",
    "   if (hcp(h) + shape(h)[0] + shape(h)[1]) >= 20:\n",
    "      TF = True\n",
    "   return TF"
   ]
  },
  {
   "cell_type": "code",
   "execution_count": 4,
   "id": "2fe34eae-7170-421f-ad56-0639488b87ec",
   "metadata": {},
   "outputs": [],
   "source": [
    "def bid_qual(soot):\n",
    "   if (len(soot) == 0):\n",
    "      eval = 0 ;\n",
    "   else:\n",
    "      eval = len(soot) + ( hcp(soot) / 10 )\n",
    "   return eval"
   ]
  },
  {
   "cell_type": "code",
   "execution_count": 5,
   "id": "cf8636e7-7ccd-4a22-907c-398acac98203",
   "metadata": {},
   "outputs": [],
   "source": [
    "def quals(h):\n",
    "   q = make_array( bid_qual(h.spades) , bid_qual(h.hearts) , bid_qual(h.diamonds) , bid_qual(h.clubs) ) ;\n",
    "   return q"
   ]
  },
  {
   "cell_type": "code",
   "execution_count": 6,
   "id": "759aa919-1f74-46a9-a446-8d89fe448f98",
   "metadata": {},
   "outputs": [],
   "source": [
    "def control(soot):\n",
    "   length = len(soot)\n",
    "   control = 0\n",
    "   if (length == 0):\n",
    "      control = 1\n",
    "   if (length == 1 and hcp(soot) == 0):\n",
    "      control = 2\n",
    "   if (length == 1 and soot.__contains__('A')):\n",
    "      control = 1\n",
    "   if (length == 2 and soot.__contains__('A')):\n",
    "      control = 1\n",
    "   if (length == 2 and ( soot.__contains__('K') or soot.__contains__('A') ) ):\n",
    "      control = 2\n",
    "   return control"
   ]
  },
  {
   "cell_type": "code",
   "execution_count": 7,
   "id": "c935e7f4-4692-4cd5-8928-48fcbb0f2307",
   "metadata": {},
   "outputs": [],
   "source": [
    "def make_bid_table(hnd):\n",
    "   control_array = make_array( control(hnd.spades) , control(hnd.hearts) , control(hnd.diamonds) , control(hnd.clubs) )\n",
    "   array_hcp = make_array(hcp(hnd.spades),hcp(hnd.hearts),hcp(hnd.diamonds),hcp(hnd.clubs))\n",
    "   array_length = exact_shape(hnd)\n",
    "   array_titles = make_array('Spades','Hearts','Diamonds','Clubs')\n",
    "   q = quals(hnd)\n",
    "   bid_tab = Table().with_columns('Suit', array_titles, 'Length', array_length, 'HCP', array_hcp, 'Controls', control_array, 'Bid Quality', q)\n",
    "   return bid_tab"
   ]
  },
  {
   "cell_type": "code",
   "execution_count": 8,
   "id": "97902ee3-11ff-4035-83b8-c42b9a61cc97",
   "metadata": {},
   "outputs": [],
   "source": [
    "def balanced(hnd):\n",
    "   ball = False\n",
    "   if ( shape(hnd) == [4,3,3,3] ):\n",
    "      ball = True\n",
    "   elif ( shape(hnd) == [4,4,3,2] ):\n",
    "      ball = True\n",
    "   elif (shape(hnd) == [5,3,3,2] ):\n",
    "      ball = True\n",
    "   return ball"
   ]
  },
  {
   "cell_type": "code",
   "execution_count": 9,
   "id": "f4c7cef0-24e0-4245-bd01-1b1983bbb821",
   "metadata": {},
   "outputs": [],
   "source": [
    "def semibalanced(hnd):\n",
    "   ball = False ; shap = False ; pts = False\n",
    "   if ( min( len(hnd.spades) , len(hnd.hearts) , len(hnd.diamonds) , len(hnd.clubs) ) >= 2 ):\n",
    "      shap = True\n",
    "   if ( bid_qual(hnd.spades) >= 2.3 ):\n",
    "      pts = True\n",
    "   if ( bid_qual(hnd.hearts) >= 2.3):\n",
    "      pts = True\n",
    "   if ( bid_qual(hnd.diamonds) >= 2.3):\n",
    "      pts = True\n",
    "   if ( bid_qual(hnd.clubs) >= 2.3 ):\n",
    "      pts = True\n",
    "   ball = shap and pts\n",
    "   return ball"
   ]
  },
  {
   "cell_type": "code",
   "execution_count": 10,
   "id": "ccf61273-7b4a-4f33-b096-49ce5f051c52",
   "metadata": {},
   "outputs": [],
   "source": [
    "def notrump(hnd):\n",
    "   NT = False\n",
    "   if ( balanced(hnd) ):\n",
    "      if (hcp(hnd) >= 15 and hcp(hnd) <= 23 ):\n",
    "         NT = True\n",
    "   if ( len(hnd.spades) == 2 and hcp(hnd.spades) < 3):\n",
    "      NT = False\n",
    "   elif(len(hnd.hearts) == 2 and hcp(hnd.hearts) < 3):\n",
    "      NT = False\n",
    "   elif(len(hnd.diamonds) == 2 and hcp(hnd.diamonds) < 3):\n",
    "      NT = False\n",
    "   elif(len(hnd.clubs) == 2 and hcp(hnd.clubs) < 3):\n",
    "      NT = False \n",
    "   return NT"
   ]
  },
  {
   "cell_type": "code",
   "execution_count": 11,
   "id": "e7ec3999-a754-4dee-9d23-0793abb268a6",
   "metadata": {},
   "outputs": [],
   "source": [
    "def strong_club(hnd):\n",
    "   sc = False\n",
    "   if ( points_rs(hnd) >= 17 ):\n",
    "      sc = True\n",
    "   return sc"
   ]
  },
  {
   "cell_type": "code",
   "execution_count": 12,
   "id": "5d832410-95a6-4466-9b05-40c9361ccfea",
   "metadata": {},
   "outputs": [],
   "source": [
    "def standard(hnd):\n",
    "   std = False; std_pts = False;\n",
    "   if ( points_rs(hnd) >= 12 and points_rs(hnd) <= 16 ):\n",
    "      std_pts = True\n",
    "   if ( std_pts and rule20(hnd) ):\n",
    "      std = True\n",
    "   return std"
   ]
  },
  {
   "cell_type": "code",
   "execution_count": 13,
   "id": "8615caa7-b3bb-45d8-b761-298bb4df52b9",
   "metadata": {},
   "outputs": [],
   "source": [
    "def twosuiter(hnd):\n",
    "   ts = False; t = shape(hnd); temp = '' ; primary = '' ; secondary = '' ;\n",
    "   if ( t[0] >= 5 and t[1] >= 4 ):\n",
    "      ts = True\n",
    "   temp = make_bid_table(hnd)\n",
    "   if ( temp.sort(4, True).column(0).item(1) == 'clubs' ):\n",
    "      primary = 'clubs'\n",
    "      secondary = temp.sort(4, True).column(0).item(0)\n",
    "   else:\n",
    "      primary = temp.sort(4, True).column(0).item(0)\n",
    "      secondary = temp.sort(4, True).column(0).item(1)\n",
    "   t = {'ts': ts, 'p': primary , 's': secondary}\n",
    "   return t"
   ]
  },
  {
   "cell_type": "code",
   "execution_count": 14,
   "id": "7d4d19d8-88aa-4391-835e-435f19e028fb",
   "metadata": {},
   "outputs": [],
   "source": [
    "def weaktwosuiter(hnd):\n",
    "   wts = False ; t = shape(hnd) ; pts = False; \n",
    "   primary = '' ; secondary = '' ;\n",
    "   qual = np.sort(quals(hnd)) ;\n",
    "   if ( qual.item(2) >= 4.3 and qual.item(3) >= 4.3 ):\n",
    "      pts = True\n",
    "   if ( pts and t[0] >= 4 and t[1] >= 4 ):\n",
    "      wts = True\n",
    "   if wts:\n",
    "      temp = make_bid_table(hnd) ;\n",
    "      primary = temp.sort(4, True).column(0).item(0)\n",
    "      secondary = temp.sort(4, True).column(0).item(1)\n",
    "   t = {'wts': wts, 'p': primary , 's': secondary}\n",
    "   return t"
   ]
  },
  {
   "cell_type": "code",
   "execution_count": 15,
   "id": "c4794c55-ef32-4650-8254-b7c781c3a2d0",
   "metadata": {},
   "outputs": [
    {
     "name": "stdout",
     "output_type": "stream",
     "text": [
      "\n",
      " The North hand has total points = 13\n",
      "{'ts': False, 'p': 'Spades', 's': 'Diamonds'}\n",
      "{'wts': True, 'p': 'Spades', 's': 'Diamonds'}\n",
      "              KQT4\n",
      "              KT\n",
      "              AJ92\n",
      "              642\n",
      "92                          873\n",
      "8742                        QJ53\n",
      "KQ5                         863\n",
      "AQ83                        K97\n",
      "              AJ65\n",
      "              A96\n",
      "              T74\n",
      "              JT5\n",
      " The North hand is balanced:  True\n",
      " The North hand is semibalanced:  True\n"
     ]
    }
   ],
   "source": [
    "dd1 = generate_deal('hcp(north) >= 11 && shape(north, any 44xx + any 8xxx)')\n",
    "hand = dd1.north\n",
    "print('\\n The North hand has total points =' , points_rs(hand))\n",
    "print(twosuiter(hand))\n",
    "print(weaktwosuiter(hand))\n",
    "dd1.pprint()\n",
    "print(' The North hand is balanced: ', balanced(hand))\n",
    "print(' The North hand is semibalanced: ' , semibalanced(hand))"
   ]
  },
  {
   "cell_type": "code",
   "execution_count": null,
   "id": "876c80aa-1d25-435d-aaae-4e660f92c9e7",
   "metadata": {},
   "outputs": [],
   "source": []
  },
  {
   "cell_type": "code",
   "execution_count": null,
   "id": "80c44075-2446-4f18-94ae-5de0e22bf405",
   "metadata": {},
   "outputs": [],
   "source": []
  }
 ],
 "metadata": {
  "kernelspec": {
   "display_name": "Python 3 (ipykernel)",
   "language": "python",
   "name": "python3"
  },
  "language_info": {
   "codemirror_mode": {
    "name": "ipython",
    "version": 3
   },
   "file_extension": ".py",
   "mimetype": "text/x-python",
   "name": "python",
   "nbconvert_exporter": "python",
   "pygments_lexer": "ipython3",
   "version": "3.13.5"
  }
 },
 "nbformat": 4,
 "nbformat_minor": 5
}