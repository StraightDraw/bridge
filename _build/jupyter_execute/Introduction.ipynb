{
 "cells": [
  {
   "cell_type": "markdown",
   "id": "95fefd07-e6c9-4c49-888c-1f5e2df72faa",
   "metadata": {},
   "source": [
    "# Blue Club Dahlonega\n",
    "\n",
    "*by robb sinn*"
   ]
  },
  {
   "cell_type": "markdown",
   "id": "6962e46f-445e-4f95-abc0-01005d0fd202",
   "metadata": {},
   "source": [
    "Blue Club Dahlonega presents a bidding system for bridge recalling the legendary strong $1\\clubsuit$ system developed and deployed in top tier competitions by the Italian national team. Blue Club Dahlonega leverages the aggressive vibe of the $1\\clubsuit$ bid and the 4-card major openings while minimizing the disruptive chaos that oppoents can inflict with competitive bidding."
   ]
  },
  {
   "cell_type": "markdown",
   "id": "fa46768d-b33a-4af9-a3dc-98a82dcc8604",
   "metadata": {},
   "source": [
    "```{sidebar} **Italian Blue Club**\n",
    "Benito Garozzo led the development of the Blue Club system which gained popularity when used by the Italian national team in the 1960's. Giorgio Belladonna and Pietro Forquet were great Italian national team players who helped with the development, as well.\n",
    "```"
   ]
  },
  {
   "cell_type": "markdown",
   "id": "d4469f8c-bd76-4054-a703-80ebe057ba60",
   "metadata": {},
   "source": [
    "## Early Bidding: Quick and Accurate\n",
    "\n",
    "Blue Club quickly deploys an accurate picture of one's hand strength and shape with early bids that:\n",
    "\n",
    "- **Limit the power** of our holdings to a specific range of points, and\n",
    "- Describe **distributional features** of our hand.\n",
    "\n",
    "Neither the distribution nor the partnership trump fit can be ignored as teammates describe their stregnth in points."
   ]
  },
  {
   "cell_type": "markdown",
   "id": "b354a232-b1fa-4848-8937-4c26b09b7054",
   "metadata": {},
   "source": [
    "Specific features of Blue Club assist us as we bid:\n",
    "\n",
    "1. The **strong 1$\\clubsuit$ opening** signals a great hand with 17+ points.\n",
    "2. **Canape bidding** alerts partner to a two-suiter with, at worst, a 54xx shape.\n",
    "3. Opening **4-Card majors** adds aggression and a preemptory vibe.\n",
    "\n",
    "The strong club opening not only provides an early alert to a big hand, but the standard openings at level of 1 are restricted to a range of 12-16 points which makes responder's job much easier. Since 4-card majors are opened, strong club openings possess a preemptive vibe. The canape bids display two-suiters hands with shape of 54xx (minimum) while not promising additional values."
   ]
  },
  {
   "cell_type": "markdown",
   "id": "0c4a8ba1-4ba1-469f-a8c2-c3f6fdefaf1d",
   "metadata": {},
   "source": [
    "```{tip} Game of Suits\n",
    "Original Blue Team players suggested that bridge is not a game of points. Instead, bridge is a <span style = 'color:blue;font-weight:bold'>game of suits</span>. The shape of the hands and the fit between partners is hugely valuable in addition to the combined point count.\n",
    "```"
   ]
  },
  {
   "cell_type": "markdown",
   "id": "c052e733-95d7-4a8b-be9b-b1d8021cd402",
   "metadata": {},
   "source": [
    "The Blue Club enjoys opening with, for example, $1\\textcolor{red}{\\heartsuit}$ followed up with $2\\textcolor{red}{\\diamondsuit}$. Partner knows the point count is 12-16 as the canape bid does not signal additional strength in points, only that we have at least 4 hearts and 5 diamonds. By opening a 4-card major and using a canape bid into the minors, opener asks responder to help find a superfit in trumps. Opponents can only enter the bidding by overcalling the hearts opener. Overcalling a major suit opening can be difficult and places pressure directly upon the opponents in the first round."
   ]
  },
  {
   "cell_type": "markdown",
   "id": "5f92ad0d-1afd-4274-a8b7-d9b492ecff0a",
   "metadata": {},
   "source": [
    "### Resources\n",
    "\n",
    "Blue Club Dahlonega provides a strong club system for beginners and leverages the work of others. The [**Fiori Napoletano**](https://bridgewithdan.com/wp-content/uploads/2019/07/Fiori_Napoletano.txt) describes a modern Italian canape system quite similar to the original Blue Team Club. The linked text has great advice for dealing with interference. \n",
    "\n",
    "Alex Knox authored [**Blue Club, Calgary Casual Style**](https://acblunit390.org/improve-your-game/blue-club-calgary-casual/) in 1999 which provides an informative introduction to a strong club system for the beginner-to-intermediate player. Additional help guides and tutorials can be found by searching for [Polish Club](https://bridgewithdan.com/wp-content/uploads/2019/07/Matula_text.txt), [Precision Club](http://www.duralbridge.com/precision.ing.htm), [Moscito](https://www.jackbridge.nl/emoscito.htm), or [Revision Club](https://bridgepost.blogspot.com/2009/01/revision-club-revised-precision.html) (an updated version of Precision). "
   ]
  },
  {
   "cell_type": "markdown",
   "id": "12af85b2-4563-41ff-92d5-4b5e87a59b9b",
   "metadata": {},
   "source": [
    "### Opponents and Interference\n",
    "\n",
    "The bridge world recognized the power of the Italians' strong club bidding and reacted with countermeasures. Primarily, <span style = 'color:red;font-weight:bold'>a strong club system is hampered by overcalls and competitive bidding</span>. An overcall of the $1\\clubsuit$ opening bid uses up bidding space that the strong club system intends to use to place the correct contract. Weak 2 and Weak 3 overcalls abound, and often the opponents will overcall with almost nothing just to interfere.\n",
    "\n",
    "A strong club system deployed today requires an understanding of competetive bidding and how to navigate it. We still wish to give partner a specific point-range for our hands, and we hope to give some description of the distributional qualities of our hands. Opponents will refuse to sit quietly and watch that happen.\n",
    "\n",
    "All bridge players use conventions: artificial bidding sequences that transmit information in non-intuitive ways. Coventions are great tools if they are simple to use and easy to remember. A complex web of artificial bidding sequences can confound our parters rather than enlightening them. Any bridge system becomes difficult to use when numerous agreements must be negotiated, memorized, and recalled **perfectly** at the table. Some descendants of Blue Club have become highly technical and quite artificial in response to the hyper-aggressive competitive bidding deployed against it. Yet, we must be careful as bidding systems are only useful when they are truly understood by both partners.\n",
    "\n",
    "A goal of Blue Club Dahlonega is to accept the competetive bidding challege with grace yet develop ways through the chaos that allow the bidding to be as natural and intuitive as possible."
   ]
  },
  {
   "cell_type": "markdown",
   "id": "28fc994e-bc70-4dc4-bdb2-b92959cbfec2",
   "metadata": {},
   "source": [
    "## Traditional Bidding\n",
    "\n",
    "High card point count (HCP) is classically determined in 4321 fashion created by Milton Work and popularized by the lgegendary [player and writer Charles Goren](https://www.bridgehands.com/Conventions/Goren_System.htm). Traditionally, we determine hand strength for bridge using the following point count:\n",
    "\n",
    "- Aces: 4 points\n",
    "- Kings: 3 points\n",
    "- Queens: 2 points\n",
    "- Jacks: 1 point\n",
    "\n",
    "Exactly 40 HCP must be distributed amongst four players. Thus, bridge partnerships can count on certain HCP minimums leading to winning outcomes:\n",
    "\n",
    "- **Game** in No Trump: 25 points\n",
    "- **Game** in a suit contract: 26 points\n",
    "- **Small slam**: 33 points\n",
    "- **Grand slam**: 37 points\n",
    "\n",
    "<span style = \"color:blue; font-weight:bold\">High card points alone do not tell the full story,</span> and many different ways are currently used to count points or to deal with distributional hands. A bridge partnership **requires a 4-4 fit in trumps** to make game at 26 team HCP, and a superfit in trumps such as 6-5 or 7-4 may lead to a team HCP of 22 - 23 being successful.\n",
    "\n",
    "The variations seem limitless. However, for this guide, we will use the traditional HCP count altered by distributional points (DP). This method provides both simplicity and accuracy. As the partnership develops and improves, additional complexity may useful or even necessary."
   ]
  },
  {
   "cell_type": "markdown",
   "id": "cc78c824-d82c-4ba1-aa9e-9c918fb5a73b",
   "metadata": {},
   "source": [
    "### Advantages of Blue Club\n",
    "\n",
    "Strong club systems deliver more information to partner more quickly than Standard American (SAYC) and other modern systems -- provided there's no interference. For big hands, the strong club opening delivers news of our 17 or more HCP immediately. Blue Club opening bids allow bidding space to explore features of our holdings and potential trump fit. Canape bidding shows our strongest suit second. Partner knows we must have at least 9 cards in our top two suits, 4 or more in the first suit bid and 5 or more in the second. Every bridge partership is seeking a super-fit of 9 or more trumps as it enhances the distributional qualities of the hands and makes the partnership holdings more powerful. Canape bidding helps the partership identify where super-fit may be possible.\n",
    "\n",
    "Current **Standard American** bridge bidding and **2 over 1** systems require opening bids in a major suit to be 13-21 HCP with 5 or more of the suit bid. Alternatively, the constraints are tighter in Blue Club where we open the top of this range with our strong 1$\\clubsuit$. Opening 4-card majors and using the Rule of 20, a Blue Club player opens many more hands with 1$\\heartsuit$ and 1$\\spadesuit$ than typical players. This adds a preemptive style to the system but also adds accuracy. When our Blue Club partner opens with 1$\\diamondsuit$, 1$\\heartsuit$ and 1$\\spadesuit$, she has narrowed the possible range to 12 - 16 HCP which makes follow-on bidding simpler and more effective.\n",
    "\n",
    "Blue Club has no natural 1$\\clubsuit$ opening bid which can be <span style = \"color:blue;font-weight:bold\">quite a disadvantage</span>. The advantage of the strong club opening bid together with opening 4-card majors and using canape-style follow-on bids, Blue Club players have a great deal of flexibility that overcomes many of the disadvantages."
   ]
  },
  {
   "cell_type": "markdown",
   "id": "6bfcbf05-40f9-4f70-b0fb-d4926b822835",
   "metadata": {},
   "source": [
    "### Natural Bidding Systems\n",
    "\n",
    "The problem of accuracy has led to a multiplicity of bridge bidding conventions. Relays, transfer bids, inverted minors, and Drury bids exemplify how unnatural many bids in modern bridge can be. Artificial bids may result in misunderstandings. The more natural our bidding is, the more likely partner will know how to respond. Seeking accuracy for every eventuality results in a problem of memory -- too much information to remember easily at the bridge table.\n",
    "\n",
    "Of course, many bridge hands are thorny and provide challenges to natural bidding. Hence, we need **some** conventions. In this system we will use the following conventions:\n",
    "\n",
    "- Stayman\n",
    "- [Splinters](https://www.bridgebum.com/splinters.php)\n",
    "- [Cue Bids](https://www.bridgebum.com/kantar_cue_bid.php)\n",
    "- [Roman Key Card Blackwood](https://www.bridgebum.com/roman_key_card_blackwood.php) (1430)\n",
    "\n",
    "Note that Stayman in Blue Club requires a slightly different treament due to the fact we can open 4-card majors with $1\\heartsuit$ or $1\\spadesuit$. Alex Knox has a good treament: [Blue Club Calgary, pp. 49-50](https://acblunit390.org/improve-your-game/blue-club-calgary-casual/).\n",
    "\n",
    "The rest of the system remains as natural as possible. In this way, the partnership avoids tricking itself into nonsense contracts. Also, this system is the beginning for a partnership wishing to learn a Strong Club system. As the partnership develops an understanding of the bidding and play using Blue Club Dahlonega, additional conventions and agreements can be added."
   ]
  },
  {
   "cell_type": "markdown",
   "id": "d68cb2ed-1432-474a-8005-b3c1d20178da",
   "metadata": {},
   "source": [
    "## Hand Evaluation\n",
    "\n",
    "Most modern bridge players have a way to combine **distributional points** (DP) to the traditional **High Card Points** (HCP) where:\n",
    "\n",
    "$$\\text{Total Points} = \\text{HCP} + \\text{DP}$$\n",
    "\n",
    "While some methods are quite sophisticated, Blue Club Dahlonega chooses simplicity instead. The cost in effectivenss is quite minimal. \n",
    "\n",
    "### Distributional Points\n",
    "\n",
    "The DP for Blue Club Dahlonega will remain easy to count and focused on the most important features:\n",
    "\n",
    "- Add 1 DP for every card in a long suit beyond 4.\n",
    "- Add 2 DP for a void suit.\n",
    "- Add 1 DP for a singleton.\n",
    "\n",
    "Do some players use more complicated ways to evaluate the power of a hand? Of course. For example, some add a point for doubltons and increase the points added for singletons and voids. Is this needed? Not if a new partnership wishes to learn Blue Club Dahlonega."
   ]
  },
  {
   "cell_type": "markdown",
   "id": "95f79777-4c2d-47be-86d4-755033679c4e",
   "metadata": {},
   "source": [
    "### Strength of Holdings\n",
    "\n",
    "To further evaluate the distributional properties of a hand, Blue Club Dahlonega includes three additional bridge ideas used widely by modern players and other systems:\n",
    "\n",
    "1. **Rule of 20.** The Rule of 20 says that, provided our HCP plus the number of cards in our 2 longest suits is at least 20, we can confidently open with 1$\\clubsuit$, 1$\\heartsuit$ or 1$\\spadesuit$. The Rule of 20 allows us to open some hands with only 11 HCP. The Rule of 20 helps us understand whether a bridge hand is strong enough be opened by standard level-one bid.\n",
    "\n",
    "2. **Controls.** Control of suit indicates a singleton, a void suit, or a suit holding like Kx. First round control means we have the first winner in the suit, something like a void or a singleton Ace. Second round control indicates we have the second winner in the suit such as Kx or a small singleton. We already count short suits in our DP, and we further consider controls when fit or superfit has been found, generally when <span style = \"color:blue;font-weight:bold\">searching for a slam</span>.\n",
    "\n",
    "4. **Bad Shape.** The worst hands in bridge have a 4-3-3-3 distribution. A 4-3-3-3 hand plays worse than its HCP would indicate. We will discount by one HCP all hands with a 4-3-3-3 shape."
   ]
  },
  {
   "cell_type": "markdown",
   "id": "f7d3adb6-94f7-4e79-8dd5-4dd9dd30ddec",
   "metadata": {},
   "source": [
    "## Intial Code Block\n",
    "\n",
    "Let's highlight the packages that we will require:\n",
    "1. endplay (bridge and card evaluation functions)\n",
    "2. datascience (tables, etc.)\n",
    "3. numpy\n",
    "4. scipy.stats (evaluation of information from tables)\n",
    "\n",
    "You can see the initial code block we will need detailed below. Notice that we load matplotlib and use the style created by the folks at 538."
   ]
  },
  {
   "cell_type": "markdown",
   "id": "b652def4-1a69-49a8-b305-dc8f5881364e",
   "metadata": {},
   "source": [
    "## Code\n",
    "\n",
    "Standard datascience initialization code with endplay added for bridge functionality follows:\n",
    "\n",
    "```\n",
    "from datascience import *\n",
    "%matplotlib inline\n",
    "import matplotlib.pyplot as plots\n",
    "plots.style.use('fivethirtyeight')\n",
    "import numpy as np\n",
    "import scipy.stats as stats\n",
    "from endplay import *\n",
    "```"
   ]
  },
  {
   "cell_type": "code",
   "execution_count": null,
   "id": "a2f5a5de-1c2b-48a6-bf0d-68d3d30e2cd7",
   "metadata": {},
   "outputs": [],
   "source": []
  }
 ],
 "metadata": {
  "kernelspec": {
   "display_name": "Python 3 (ipykernel)",
   "language": "python",
   "name": "python3"
  },
  "language_info": {
   "codemirror_mode": {
    "name": "ipython",
    "version": 3
   },
   "file_extension": ".py",
   "mimetype": "text/x-python",
   "name": "python",
   "nbconvert_exporter": "python",
   "pygments_lexer": "ipython3",
   "version": "3.13.5"
  }
 },
 "nbformat": 4,
 "nbformat_minor": 5
}