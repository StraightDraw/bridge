{
 "cells": [
  {
   "cell_type": "markdown",
   "id": "b4af96ac-0c31-4778-83d3-8342ee70a977",
   "metadata": {},
   "source": [
    "# Blue Club"
   ]
  },
  {
   "cell_type": "code",
   "execution_count": 1,
   "id": "f9e704f9-58ef-4d31-93e5-493270c09bf5",
   "metadata": {},
   "outputs": [],
   "source": [
    "from datascience import *\n",
    "%matplotlib inline\n",
    "import matplotlib.pyplot as plots\n",
    "plots.style.use('fivethirtyeight')\n",
    "import numpy as np\n",
    "import scipy.stats as stats\n",
    "from endplay import *"
   ]
  },
  {
   "cell_type": "code",
   "execution_count": 2,
   "id": "85264d45-40e4-48a7-8261-c341c82fec66",
   "metadata": {},
   "outputs": [],
   "source": [
    "def points_rs(hnd):\n",
    "   long = 0\n",
    "   short = dist_points(hnd, [2, 1, 0, 0])\n",
    "   L1 = dist_points(hnd, [0, 0, 0, 0, 0, 1])\n",
    "   L2 = dist_points(hnd, [0, 0, 0, 0, 0, 0, 2])\n",
    "   L3 = dist_points(hnd, [0, 0, 0, 0, 0, 0, 0, 3])\n",
    "   L4 = dist_points(hnd, [0, 0, 0, 0, 0, 0, 0, 0, 4])\n",
    "   L5 = dist_points(hnd, [0, 0, 0, 0, 0, 0, 0, 0, 0, 5])\n",
    "   L6 = dist_points(hnd, [0, 0, 0, 0, 0, 0, 0, 0, 0, 0, 6])\n",
    "   L7 = dist_points(hnd, [0, 0, 0, 0, 0, 0, 0, 0, 0, 0, 0, 7])\n",
    "   long = max(L1, L2, L3, L4, L5, L6, L7)\n",
    "   if (shape(hnd) == [5,5,3,0] or shape(hnd) == [5,5,2,1]):\n",
    "      long = long +1\n",
    "   if (shape(hnd) == [6,5,2,0] or shape(hnd) == [6,5,1,1]):\n",
    "      long = long +1\n",
    "   if (shape(hnd) == [6,6,1,0]):\n",
    "      long = long +2\n",
    "   if (shape(hnd) == [7,5,1,0]):\n",
    "      long = long +1\n",
    "   if (shape(hnd) == [7,6,0,0]):\n",
    "      long = long +2\n",
    "   if (shape(hnd) == [8,5,0,0]):\n",
    "      long = long +1\n",
    "   totalPts = short + long + hcp(hnd)\n",
    "   return totalPts"
   ]
  },
  {
   "cell_type": "code",
   "execution_count": 3,
   "id": "66bb0727-efcf-436a-964b-ef8bc0e6ae87",
   "metadata": {},
   "outputs": [],
   "source": [
    "def rule20(h):\n",
    "   TF = False\n",
    "   if (hcp(h) + shape(h)[0] + shape(h)[1]) >= 20:\n",
    "      TF = True\n",
    "   return TF"
   ]
  },
  {
   "cell_type": "code",
   "execution_count": 4,
   "id": "2fe34eae-7170-421f-ad56-0639488b87ec",
   "metadata": {},
   "outputs": [],
   "source": [
    "def bid_qual(soot):\n",
    "   if (len(soot) == 0):\n",
    "      eval = 0 ;\n",
    "   else:\n",
    "      eval = len(soot) + ( hcp(soot) / 10 )\n",
    "   return eval"
   ]
  },
  {
   "cell_type": "code",
   "execution_count": 5,
   "id": "cf8636e7-7ccd-4a22-907c-398acac98203",
   "metadata": {},
   "outputs": [],
   "source": [
    "def quals(h):\n",
    "   sq = bid_qual(h.spades) ; hq = bid_qual(h.hearts) ; dq = bid_qual(h.diamonds) ; cq = bid_qual(h.clubs) ;\n",
    "   q = make_array(sq, hq, dq, cq)\n",
    "   return q"
   ]
  },
  {
   "cell_type": "code",
   "execution_count": 6,
   "id": "759aa919-1f74-46a9-a446-8d89fe448f98",
   "metadata": {},
   "outputs": [],
   "source": [
    "def control(soot):\n",
    "   length = len(soot)\n",
    "   control = 0\n",
    "   if (length == 0):\n",
    "      control = 1\n",
    "   if (length == 1 and hcp(soot) == 0):\n",
    "      control = 2\n",
    "   if (length == 1 and soot.__contains__('A')):\n",
    "      control = 1\n",
    "   if (length == 2 and soot.__contains__('A')):\n",
    "      control = 1\n",
    "   if (length == 2 and hcp(soot) == 3 and soot.__contains__('K')):\n",
    "      control = 2\n",
    "   return control"
   ]
  },
  {
   "cell_type": "code",
   "execution_count": 7,
   "id": "5974cff7-70bc-4a9e-b6da-5f997743d524",
   "metadata": {},
   "outputs": [],
   "source": [
    "def controls(hnd):\n",
    "   c = make_array( control(hnd.spades) , control(hnd.hearts) , control(hnd.diamonds) , control(hnd.clubs) )\n",
    "   return c"
   ]
  },
  {
   "cell_type": "code",
   "execution_count": 8,
   "id": "c935e7f4-4692-4cd5-8928-48fcbb0f2307",
   "metadata": {},
   "outputs": [],
   "source": [
    "def make_bid_table(hnd):\n",
    "   control_array = make_array( controls(hnd.spades) , controls(hnd.hearts) , controls(hnd.diamonds) , controls(hnd.clubs))\n",
    "   array_hcp = make_array(hcp(hnd.spades),hcp(hnd.hearts),hcp(hnd.diamonds),hcp(hnd.clubs))\n",
    "   array_length = exact_shape(hnd)\n",
    "   array_titles = make_array('Spades','Hearts','Diamonds','Clubs')\n",
    "   q = quals(hnd)\n",
    "   bid_tab = Table().with_columns('Suit', array_titles, 'Length', array_length, 'HCP', array_hcp, 'Controls', control_array, 'Bid Quality', q)\n",
    "   return bid_tab"
   ]
  },
  {
   "cell_type": "code",
   "execution_count": 9,
   "id": "ccf61273-7b4a-4f33-b096-49ce5f051c52",
   "metadata": {},
   "outputs": [],
   "source": [
    "def notrump(hnd):\n",
    "   NT = False ; pts = False ; dist = False ;\n",
    "   if ( hcp(hnd) >= 15 and hcp(hnd) <= 23 ):\n",
    "      pts = True\n",
    "   if ( shape(hnd) == [4,3,3,3] ):\n",
    "      dist = True\n",
    "   elif ( shape(hnd) == [4,4,3,2] and min( hcp(hnd.spades) , hcp(hnd.hearts) , hcp(hnd.diamonds) , hcp(hnd.clubs) ) >= 3 ):\n",
    "      dist = True\n",
    "   elif (shape(hnd) == [5,3,3,2] and min( hcp(hnd.spades) , hcp(hnd.hearts) , hcp(hnd.diamonds) , hcp(hnd.clubs) ) >= 3 ):\n",
    "      dist = True\n",
    "   if (dist and pts ):\n",
    "      NT = True\n",
    "   return NT"
   ]
  },
  {
   "cell_type": "code",
   "execution_count": 10,
   "id": "e7ec3999-a754-4dee-9d23-0793abb268a6",
   "metadata": {},
   "outputs": [],
   "source": [
    "def strong_club(hnd):\n",
    "   sc = False\n",
    "   if ( points_rs(hnd) >= 17 and rule24(hnd) ):\n",
    "      sc = True\n",
    "   return sc"
   ]
  }
 ],
 "metadata": {
  "kernelspec": {
   "display_name": "Python 3 (ipykernel)",
   "language": "python",
   "name": "python3"
  },
  "language_info": {
   "codemirror_mode": {
    "name": "ipython",
    "version": 3
   },
   "file_extension": ".py",
   "mimetype": "text/x-python",
   "name": "python",
   "nbconvert_exporter": "python",
   "pygments_lexer": "ipython3",
   "version": "3.12.8"
  }
 },
 "nbformat": 4,
 "nbformat_minor": 5
}