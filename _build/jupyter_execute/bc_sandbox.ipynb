{
 "cells": [
  {
   "cell_type": "markdown",
   "id": "d550df25-7e31-4787-81cc-12655252109c",
   "metadata": {},
   "source": [
    "# Sandbox"
   ]
  },
  {
   "cell_type": "code",
   "execution_count": 1,
   "id": "e4546e42-a763-4510-8500-c8dcd718956b",
   "metadata": {},
   "outputs": [
    {
     "name": "stderr",
     "output_type": "stream",
     "text": [
      "C:\\Users\\rsinn\\anaconda3\\envs\\bridge\\Lib\\site-packages\\requests\\__init__.py:86: RequestsDependencyWarning: Unable to find acceptable character detection dependency (chardet or charset_normalizer).\n",
      "  warnings.warn(\n"
     ]
    },
    {
     "name": "stdout",
     "output_type": "stream",
     "text": [
      "\n",
      " The North hand has total points = 19\n",
      "\n",
      " The North hand is a 2-suiter :  {'ts': True, 'p': 'Hearts', 's': 'Clubs'}\n",
      "              A\n",
      "              KJ652\n",
      "              AQ8\n",
      "              KT95\n",
      "KQJT8762                    543\n",
      "97                          43\n",
      "95                          KJ4\n",
      "2                           J8643\n",
      "              9\n",
      "              AQT8\n",
      "              T7632\n",
      "              AQ7\n"
     ]
    }
   ],
   "source": [
    "# Standard Datascience initialization code plus Pandas.\n",
    "from datascience import *\n",
    "%matplotlib inline\n",
    "import matplotlib.pyplot as plots\n",
    "plots.style.use('fivethirtyeight')\n",
    "import numpy as np\n",
    "import scipy.stats as stats\n",
    "from endplay import *\n",
    "\n",
    "import import_ipynb\n",
    "from endplay.types import Deal\n",
    "from bc_functions import *\n",
    "from bc_bids import * ;"
   ]
  },
  {
   "cell_type": "code",
   "execution_count": null,
   "id": "d771de75-edd9-4b7b-a495-83ff126d50f0",
   "metadata": {},
   "outputs": [],
   "source": []
  },
  {
   "cell_type": "code",
   "execution_count": 2,
   "id": "c574f145-da5a-4085-bd36-106afafad33b",
   "metadata": {},
   "outputs": [
    {
     "name": "stdout",
     "output_type": "stream",
     "text": [
      "              6\n",
      "              KJT9\n",
      "              AK983\n",
      "              KQ3\n",
      "J72                         QT9853\n",
      "Q842                        A3\n",
      "QJT64                       5\n",
      "6                           AJ94\n",
      "              AK4\n",
      "              765\n",
      "              72\n",
      "              T8752\n",
      "♠ 6\n",
      "♥ KJT9\n",
      "♦ AK983\n",
      "♣ KQ3\n"
     ]
    },
    {
     "data": {
      "text/plain": [
       "{'ts': True, 'p': 'Diamonds', 's': 'Hearts'}"
      ]
     },
     "execution_count": 2,
     "metadata": {},
     "output_type": "execute_result"
    }
   ],
   "source": [
    "d2 = generate_deal('hcp(north) >= 5 && shape(north, any 4xxx + 65xx + any 75xx + any 7xxx + any 8xxx)')\n",
    "hand = d2.north\n",
    "d2.pprint()\n",
    "# print('\\n The North hand has total points =' , points_rs(hand))\n",
    "# print(' The North hand is a 2-suiter: ', twosuiter(hand))\n",
    "# temp = make_bid_table(hand)\n",
    "# temp.sort(4, True)\n",
    "hand.pprint()\n",
    "twosuiter(hand)"
   ]
  },
  {
   "cell_type": "code",
   "execution_count": 3,
   "id": "9644b998-b54e-44f0-91d6-757759279340",
   "metadata": {},
   "outputs": [
    {
     "name": "stdout",
     "output_type": "stream",
     "text": [
      "Points =  13 \n",
      "    Rule of 20? True\n",
      "♠ K8\n",
      "♥ QJ84\n",
      "♦ AQT52\n",
      "♣ 52\n"
     ]
    },
    {
     "data": {
      "text/html": [
       "<table border=\"1\" class=\"dataframe\">\n",
       "    <thead>\n",
       "        <tr>\n",
       "            <th>Suit</th> <th>Length</th> <th>HCP</th> <th>Controls</th> <th>Bid Quality</th>\n",
       "        </tr>\n",
       "    </thead>\n",
       "    <tbody>\n",
       "        <tr>\n",
       "            <td>Spades  </td> <td>2     </td> <td>3   </td> <td>2       </td> <td>2.3        </td>\n",
       "        </tr>\n",
       "        <tr>\n",
       "            <td>Hearts  </td> <td>4     </td> <td>3   </td> <td>0       </td> <td>4.3        </td>\n",
       "        </tr>\n",
       "        <tr>\n",
       "            <td>Diamonds</td> <td>5     </td> <td>6   </td> <td>0       </td> <td>5.6        </td>\n",
       "        </tr>\n",
       "        <tr>\n",
       "            <td>Clubs   </td> <td>2     </td> <td>0   </td> <td>0       </td> <td>2          </td>\n",
       "        </tr>\n",
       "    </tbody>\n",
       "</table>"
      ],
      "text/plain": [
       "Suit     | Length | HCP  | Controls | Bid Quality\n",
       "Spades   | 2      | 3    | 2        | 2.3\n",
       "Hearts   | 4      | 3    | 0        | 4.3\n",
       "Diamonds | 5      | 6    | 0        | 5.6\n",
       "Clubs    | 2      | 0    | 0        | 2"
      ]
     },
     "execution_count": 3,
     "metadata": {},
     "output_type": "execute_result"
    }
   ],
   "source": [
    "h5 = Hand('J.KQ986.K42.9732')\n",
    "h1 = Hand('K8.QJ84.AQT52.52')\n",
    "print('Points = ', points_rs(h1), '\\n    Rule of 20?', rule20(h1))\n",
    "h1.pprint()\n",
    "make_bid_table(h1)"
   ]
  },
  {
   "cell_type": "code",
   "execution_count": 4,
   "id": "c562b372-11a9-438e-a76a-22c4f27a112b",
   "metadata": {},
   "outputs": [
    {
     "name": "stdout",
     "output_type": "stream",
     "text": [
      "Points =  16 \n",
      "    Rule of 20? True\n",
      "♠ KT87\n",
      "♥ AQ987\n",
      "♦ KJ95\n",
      "♣ \n"
     ]
    },
    {
     "data": {
      "text/html": [
       "<table border=\"1\" class=\"dataframe\">\n",
       "    <thead>\n",
       "        <tr>\n",
       "            <th>Suit</th> <th>Length</th> <th>HCP</th> <th>Controls</th> <th>Bid Quality</th>\n",
       "        </tr>\n",
       "    </thead>\n",
       "    <tbody>\n",
       "        <tr>\n",
       "            <td>Spades  </td> <td>4     </td> <td>3   </td> <td>0       </td> <td>4.3        </td>\n",
       "        </tr>\n",
       "        <tr>\n",
       "            <td>Hearts  </td> <td>5     </td> <td>6   </td> <td>0       </td> <td>5.6        </td>\n",
       "        </tr>\n",
       "        <tr>\n",
       "            <td>Diamonds</td> <td>4     </td> <td>4   </td> <td>0       </td> <td>4.4        </td>\n",
       "        </tr>\n",
       "        <tr>\n",
       "            <td>Clubs   </td> <td>0     </td> <td>0   </td> <td>1       </td> <td>0          </td>\n",
       "        </tr>\n",
       "    </tbody>\n",
       "</table>"
      ],
      "text/plain": [
       "Suit     | Length | HCP  | Controls | Bid Quality\n",
       "Spades   | 4      | 3    | 0        | 4.3\n",
       "Hearts   | 5      | 6    | 0        | 5.6\n",
       "Diamonds | 4      | 4    | 0        | 4.4\n",
       "Clubs    | 0      | 0    | 1        | 0"
      ]
     },
     "execution_count": 4,
     "metadata": {},
     "output_type": "execute_result"
    }
   ],
   "source": [
    "h2 = Hand('KT87.AQ987.KJ95.')\n",
    "print('Points = ', points_rs(h2), '\\n    Rule of 20?', rule20(h2))\n",
    "h2.pprint()\n",
    "make_bid_table(h2)"
   ]
  },
  {
   "cell_type": "code",
   "execution_count": 5,
   "id": "1a26dc65-aa4a-48b8-8f1e-adf1a78174a7",
   "metadata": {},
   "outputs": [
    {
     "name": "stdout",
     "output_type": "stream",
     "text": [
      "Points =  12 \n",
      "    Rule of 20? True\n",
      "♠ J74\n",
      "♥ AQ93\n",
      "♦ KQ72\n",
      "♣ 42\n"
     ]
    },
    {
     "data": {
      "text/html": [
       "<table border=\"1\" class=\"dataframe\">\n",
       "    <thead>\n",
       "        <tr>\n",
       "            <th>Suit</th> <th>Length</th> <th>HCP</th> <th>Controls</th> <th>Bid Quality</th>\n",
       "        </tr>\n",
       "    </thead>\n",
       "    <tbody>\n",
       "        <tr>\n",
       "            <td>Spades  </td> <td>3     </td> <td>1   </td> <td>0       </td> <td>3.1        </td>\n",
       "        </tr>\n",
       "        <tr>\n",
       "            <td>Hearts  </td> <td>4     </td> <td>6   </td> <td>0       </td> <td>4.6        </td>\n",
       "        </tr>\n",
       "        <tr>\n",
       "            <td>Diamonds</td> <td>4     </td> <td>5   </td> <td>0       </td> <td>4.5        </td>\n",
       "        </tr>\n",
       "        <tr>\n",
       "            <td>Clubs   </td> <td>2     </td> <td>0   </td> <td>0       </td> <td>2          </td>\n",
       "        </tr>\n",
       "    </tbody>\n",
       "</table>"
      ],
      "text/plain": [
       "Suit     | Length | HCP  | Controls | Bid Quality\n",
       "Spades   | 3      | 1    | 0        | 3.1\n",
       "Hearts   | 4      | 6    | 0        | 4.6\n",
       "Diamonds | 4      | 5    | 0        | 4.5\n",
       "Clubs    | 2      | 0    | 0        | 2"
      ]
     },
     "execution_count": 5,
     "metadata": {},
     "output_type": "execute_result"
    }
   ],
   "source": [
    "h3 = Hand('J74.AQ93.KQ72.42')\n",
    "print('Points = ', points_rs(h3), '\\n    Rule of 20?', rule20(h3))\n",
    "h3.pprint()\n",
    "make_bid_table(h3)"
   ]
  },
  {
   "cell_type": "code",
   "execution_count": 6,
   "id": "97167605-e153-4bc1-b65b-1e853a06168e",
   "metadata": {},
   "outputs": [
    {
     "name": "stdout",
     "output_type": "stream",
     "text": [
      "Points =  17 \n",
      "    Rule of 20? True\n",
      "♠ 3\n",
      "♥ Q8\n",
      "♦ AT97653\n",
      "♣ AK2\n"
     ]
    },
    {
     "data": {
      "text/html": [
       "<table border=\"1\" class=\"dataframe\">\n",
       "    <thead>\n",
       "        <tr>\n",
       "            <th>Suit</th> <th>Length</th> <th>HCP</th> <th>Controls</th> <th>Bid Quality</th>\n",
       "        </tr>\n",
       "    </thead>\n",
       "    <tbody>\n",
       "        <tr>\n",
       "            <td>Spades  </td> <td>1     </td> <td>0   </td> <td>2       </td> <td>1          </td>\n",
       "        </tr>\n",
       "        <tr>\n",
       "            <td>Hearts  </td> <td>2     </td> <td>2   </td> <td>0       </td> <td>2.2        </td>\n",
       "        </tr>\n",
       "        <tr>\n",
       "            <td>Diamonds</td> <td>7     </td> <td>4   </td> <td>0       </td> <td>7.4        </td>\n",
       "        </tr>\n",
       "        <tr>\n",
       "            <td>Clubs   </td> <td>3     </td> <td>7   </td> <td>0       </td> <td>3.7        </td>\n",
       "        </tr>\n",
       "    </tbody>\n",
       "</table>"
      ],
      "text/plain": [
       "Suit     | Length | HCP  | Controls | Bid Quality\n",
       "Spades   | 1      | 0    | 2        | 1\n",
       "Hearts   | 2      | 2    | 0        | 2.2\n",
       "Diamonds | 7      | 4    | 0        | 7.4\n",
       "Clubs    | 3      | 7    | 0        | 3.7"
      ]
     },
     "execution_count": 6,
     "metadata": {},
     "output_type": "execute_result"
    }
   ],
   "source": [
    "h4 = Hand('3.Q8.AT97653.AK2')\n",
    "print('Points = ', points_rs(h4), '\\n    Rule of 20?', rule20(h4))\n",
    "h4.pprint()\n",
    "make_bid_table(h4)"
   ]
  },
  {
   "cell_type": "code",
   "execution_count": 7,
   "id": "05f85822-0b41-4b76-9c83-a442ce815472",
   "metadata": {},
   "outputs": [
    {
     "name": "stdout",
     "output_type": "stream",
     "text": [
      "Points =  11 \n",
      "    Rule of 20? False\n",
      "♠ J\n",
      "♥ KQ986\n",
      "♦ K42\n",
      "♣ 9732\n"
     ]
    },
    {
     "data": {
      "text/html": [
       "<table border=\"1\" class=\"dataframe\">\n",
       "    <thead>\n",
       "        <tr>\n",
       "            <th>Suit</th> <th>Length</th> <th>HCP</th> <th>Controls</th> <th>Bid Quality</th>\n",
       "        </tr>\n",
       "    </thead>\n",
       "    <tbody>\n",
       "        <tr>\n",
       "            <td>Spades  </td> <td>1     </td> <td>1   </td> <td>0       </td> <td>1.1        </td>\n",
       "        </tr>\n",
       "        <tr>\n",
       "            <td>Hearts  </td> <td>5     </td> <td>5   </td> <td>0       </td> <td>5.5        </td>\n",
       "        </tr>\n",
       "        <tr>\n",
       "            <td>Diamonds</td> <td>3     </td> <td>3   </td> <td>0       </td> <td>3.3        </td>\n",
       "        </tr>\n",
       "        <tr>\n",
       "            <td>Clubs   </td> <td>4     </td> <td>0   </td> <td>0       </td> <td>4          </td>\n",
       "        </tr>\n",
       "    </tbody>\n",
       "</table>"
      ],
      "text/plain": [
       "Suit     | Length | HCP  | Controls | Bid Quality\n",
       "Spades   | 1      | 1    | 0        | 1.1\n",
       "Hearts   | 5      | 5    | 0        | 5.5\n",
       "Diamonds | 3      | 3    | 0        | 3.3\n",
       "Clubs    | 4      | 0    | 0        | 4"
      ]
     },
     "execution_count": 7,
     "metadata": {},
     "output_type": "execute_result"
    }
   ],
   "source": [
    "h5 = Hand('J.KQ986.K42.9732')\n",
    "print('Points = ', points_rs(h5), '\\n    Rule of 20?', rule20(h5))\n",
    "h5.pprint()\n",
    "make_bid_table(h5)"
   ]
  },
  {
   "cell_type": "code",
   "execution_count": null,
   "id": "8c53e98d-618c-452c-a465-b967073ed471",
   "metadata": {},
   "outputs": [],
   "source": []
  },
  {
   "cell_type": "code",
   "execution_count": 8,
   "id": "42e5365f-d65d-485a-b883-1fbbda468690",
   "metadata": {},
   "outputs": [
    {
     "name": "stdout",
     "output_type": "stream",
     "text": [
      "              975\n",
      "              K8\n",
      "              AQ964\n",
      "              A52\n",
      "KJ643                       82\n",
      "Q9                          JT532\n",
      "853                         JT2\n",
      "QJ4                         KT3\n",
      "              AQT\n",
      "              A764\n",
      "              K7\n",
      "              9876\n",
      "♠ 975\n",
      "♥ K8\n",
      "♦ AQ964\n",
      "♣ A52\n"
     ]
    },
    {
     "data": {
      "text/plain": [
       "{'ts': False, 'p': 'Diamonds', 's': 'Clubs'}"
      ]
     },
     "execution_count": 8,
     "metadata": {},
     "output_type": "execute_result"
    }
   ],
   "source": [
    "dd1 = generate_deal('hcp(north) >= 11 && shape(north, any 5xxx + 65xx + any 75xx + any 7xxx + any 8xxx)')\n",
    "hand = dd1.north\n",
    "dd1.pprint()\n",
    "# print('\\n The North hand has total points =' , points_rs(hand))\n",
    "# print(' The North hand is a 2-suiter: ', twosuiter(hand))\n",
    "# temp = make_bid_table(hand)\n",
    "# temp.sort(4, True)\n",
    "hand.pprint()\n",
    "twosuiter(hand)"
   ]
  },
  {
   "cell_type": "code",
   "execution_count": null,
   "id": "44422478-8f03-43bb-8f92-71463ce3eb13",
   "metadata": {},
   "outputs": [],
   "source": []
  },
  {
   "cell_type": "code",
   "execution_count": null,
   "id": "7141dcae-80c8-4294-b358-0d8ffecf2d0d",
   "metadata": {},
   "outputs": [],
   "source": []
  }
 ],
 "metadata": {
  "kernelspec": {
   "display_name": "Python 3 (ipykernel)",
   "language": "python",
   "name": "python3"
  },
  "language_info": {
   "codemirror_mode": {
    "name": "ipython",
    "version": 3
   },
   "file_extension": ".py",
   "mimetype": "text/x-python",
   "name": "python",
   "nbconvert_exporter": "python",
   "pygments_lexer": "ipython3",
   "version": "3.13.5"
  }
 },
 "nbformat": 4,
 "nbformat_minor": 5
}