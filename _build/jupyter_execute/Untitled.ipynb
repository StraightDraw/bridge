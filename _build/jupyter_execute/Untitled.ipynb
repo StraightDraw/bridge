{
 "cells": [
  {
   "cell_type": "markdown",
   "id": "2c55526d-a401-4ad2-86db-196d8263b5c2",
   "metadata": {},
   "source": [
    "$1\\clubsuit$"
   ]
  },
  {
   "cell_type": "markdown",
   "id": "aa3e3420-ac6d-42d2-a6e0-0872b3e24e37",
   "metadata": {},
   "source": []
  }
 ],
 "metadata": {
  "kernelspec": {
   "display_name": "Python 3 (ipykernel)",
   "language": "python",
   "name": "python3"
  },
  "language_info": {
   "codemirror_mode": {
    "name": "ipython",
    "version": 3
   },
   "file_extension": ".py",
   "mimetype": "text/x-python",
   "name": "python",
   "nbconvert_exporter": "python",
   "pygments_lexer": "ipython3",
   "version": "3.13.5"
  }
 },
 "nbformat": 4,
 "nbformat_minor": 5
}