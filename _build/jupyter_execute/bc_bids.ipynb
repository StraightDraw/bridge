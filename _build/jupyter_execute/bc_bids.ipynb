{
 "cells": [
  {
   "cell_type": "markdown",
   "id": "ffd2b733-7680-4d89-9324-073631f7703a",
   "metadata": {},
   "source": [
    "# Blue Club Bidding Functions"
   ]
  },
  {
   "cell_type": "code",
   "execution_count": 1,
   "id": "f28d34db-6811-4e03-8e7c-82adc84b8dd5",
   "metadata": {},
   "outputs": [
    {
     "name": "stderr",
     "output_type": "stream",
     "text": [
      "C:\\Users\\rsinn\\anaconda3\\envs\\bridge\\Lib\\site-packages\\requests\\__init__.py:86: RequestsDependencyWarning: Unable to find acceptable character detection dependency (chardet or charset_normalizer).\n",
      "  warnings.warn(\n"
     ]
    }
   ],
   "source": [
    "# Standard Datascience initialization code plus Pandas.\n",
    "from datascience import *\n",
    "%matplotlib inline\n",
    "import matplotlib.pyplot as plots\n",
    "plots.style.use('fivethirtyeight')\n",
    "import numpy as np\n",
    "import scipy.stats as stats\n",
    "from endplay import *\n",
    "\n",
    "import import_ipynb\n",
    "from endplay.types import Deal\n",
    "from bc_functions import * ;"
   ]
  },
  {
   "cell_type": "code",
   "execution_count": 2,
   "id": "36469b3c-2c55-44b7-a709-f1ebf3c6634b",
   "metadata": {},
   "outputs": [],
   "source": [
    "def bid_nt(hd):\n",
    "   bid = False\n",
    "   if (notrump(hd) ):\n",
    "      bid = 0\n",
    "      pt = hcp(hd)\n",
    "      match pt:\n",
    "         case _ if pt <= 17:\n",
    "            bid = '1NT'\n",
    "         case _ if (17 < pt <= 20):\n",
    "            bid = '2NT'\n",
    "         case _ if pt >= 21:\n",
    "            bid = '3NT'\n",
    "   return bid"
   ]
  },
  {
   "cell_type": "code",
   "execution_count": 3,
   "id": "c328f75e-4fbe-444c-931f-90ff20515eab",
   "metadata": {},
   "outputs": [],
   "source": [
    "def bid_std(hd):\n",
    "   bid = False\n",
    "   if (standard(hd) and twosuiter(hd) ):\n",
    "      bid = 0\n",
    "   temp = make_bid_table(hd)\n",
    "   s = temp.sort(4, True).column(0).item(0)\n",
    "   match s:\n",
    "      case 'spades' :\n",
    "         bid = '1S'\n",
    "      case 'hearts' :\n",
    "         bid = '1H'\n",
    "      case 'diamonds' :\n",
    "         bid = '1D'\n",
    "      case 'clubs' :\n",
    "         bid = False\n",
    "   return bid"
   ]
  },
  {
   "cell_type": "code",
   "execution_count": 4,
   "id": "5f77a6a8-b1b5-4c8e-b467-3e8cbe92924f",
   "metadata": {},
   "outputs": [
    {
     "name": "stdout",
     "output_type": "stream",
     "text": [
      "\n",
      " The North hand has total points = 13\n",
      "\n",
      " The North hand is a 2-suiter :  {'ts': True, 'p': 'Hearts', 's': 'Clubs'}\n",
      "              54\n",
      "              AKJ82\n",
      "              T2\n",
      "              AT65\n",
      "T973                        AQJ8\n",
      "964                         QT7\n",
      "AQ                          J874\n",
      "Q983                        J4\n",
      "              K62\n",
      "              53\n",
      "              K9653\n",
      "              K72\n"
     ]
    }
   ],
   "source": [
    "d = generate_deal('hcp(north) >= 11 && shape(north, any 54xx + any 55xx + any 64xx)')\n",
    "hand = d.north\n",
    "print('\\n The North hand has total points =' , points_rs(hand))\n",
    "print('\\n The North hand is a 2-suiter : ', twosuiter(hand))\n",
    "\n",
    "d.pprint()"
   ]
  },
  {
   "cell_type": "code",
   "execution_count": null,
   "id": "002cf5ee-61cf-475d-b57d-ebc2af28ad35",
   "metadata": {},
   "outputs": [],
   "source": []
  },
  {
   "cell_type": "code",
   "execution_count": null,
   "id": "a342b8c9-51b3-4b1a-96a8-3e12a36209bf",
   "metadata": {},
   "outputs": [],
   "source": []
  }
 ],
 "metadata": {
  "kernelspec": {
   "display_name": "Python 3 (ipykernel)",
   "language": "python",
   "name": "python3"
  },
  "language_info": {
   "codemirror_mode": {
    "name": "ipython",
    "version": 3
   },
   "file_extension": ".py",
   "mimetype": "text/x-python",
   "name": "python",
   "nbconvert_exporter": "python",
   "pygments_lexer": "ipython3",
   "version": "3.13.5"
  }
 },
 "nbformat": 4,
 "nbformat_minor": 5
}