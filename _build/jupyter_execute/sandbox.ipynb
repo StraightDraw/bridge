{
 "cells": [
  {
   "cell_type": "markdown",
   "id": "d550df25-7e31-4787-81cc-12655252109c",
   "metadata": {},
   "source": [
    "# Sandbox"
   ]
  },
  {
   "cell_type": "code",
   "execution_count": 1,
   "id": "e4546e42-a763-4510-8500-c8dcd718956b",
   "metadata": {},
   "outputs": [
    {
     "name": "stdout",
     "output_type": "stream",
     "text": [
      "♠ AT65\n",
      "♥ 2\n",
      "♦ AQJ7\n",
      "♣ AKT7\n",
      "Total points = 18  or RS points =  19\n",
      "   The hand is a Standard Opener:  False\n",
      "   The hand is a 2-suiter:  False\n",
      "       The distributional points:  2\n",
      "       The RS distributional points:  1\n",
      "           The hand is a NoTrump opener:  False\n"
     ]
    }
   ],
   "source": [
    "# Standard Datascience initialization code plus Pandas.\n",
    "from datascience import *\n",
    "%matplotlib inline\n",
    "import matplotlib.pyplot as plots\n",
    "plots.style.use('fivethirtyeight')\n",
    "import numpy as np\n",
    "import scipy.stats as stats\n",
    "from endplay import *\n",
    "\n",
    "import import_ipynb\n",
    "from endplay.types import Deal\n",
    "from bc_functions import *"
   ]
  },
  {
   "cell_type": "code",
   "execution_count": 2,
   "id": "d771de75-edd9-4b7b-a495-83ff126d50f0",
   "metadata": {},
   "outputs": [],
   "source": [
    "def o1(hnd):\n",
    "   bid = False ; [p, s] = biddable(hnd)\n",
    "   if (notrump(hnd) ):\n",
    "      bid = o1_NT(hnd)\n",
    "   elif ( strong_club(hnd) ):\n",
    "      bid = o1_oneclub(hnd)\n",
    "   elif ( levelone(hnd) ):\n",
    "      bid = o1_levelone(hnd)\n",
    "   elif ( o1_w2(hnd) ):\n",
    "      bid = '2' + p\n",
    "   elif ( o1_p3(hnd) ):\n",
    "      bid = '3' + p\n",
    "   return bid"
   ]
  },
  {
   "cell_type": "code",
   "execution_count": 3,
   "id": "c574f145-da5a-4085-bd36-106afafad33b",
   "metadata": {},
   "outputs": [
    {
     "name": "stdout",
     "output_type": "stream",
     "text": [
      "♠ A963\n",
      "♥ AK962\n",
      "♦ JT7\n",
      "♣ 5\n",
      "Total points = 14\n",
      "   The hand is a No Trump Opener:  False\n"
     ]
    },
    {
     "data": {
      "text/html": [
       "<table border=\"1\" class=\"dataframe\">\n",
       "    <thead>\n",
       "        <tr>\n",
       "            <th>Suit</th> <th>Length</th> <th>HCP</th> <th>Controls</th> <th>Bid Quality</th>\n",
       "        </tr>\n",
       "    </thead>\n",
       "    <tbody>\n",
       "        <tr>\n",
       "            <td>Spades  </td> <td>4     </td> <td>4   </td> <td>0       </td> <td>4.4        </td>\n",
       "        </tr>\n",
       "        <tr>\n",
       "            <td>Hearts  </td> <td>5     </td> <td>7   </td> <td>0       </td> <td>5.7        </td>\n",
       "        </tr>\n",
       "        <tr>\n",
       "            <td>Diamonds</td> <td>3     </td> <td>1   </td> <td>0       </td> <td>3.1        </td>\n",
       "        </tr>\n",
       "        <tr>\n",
       "            <td>Clubs   </td> <td>1     </td> <td>0   </td> <td>2       </td> <td>1          </td>\n",
       "        </tr>\n",
       "    </tbody>\n",
       "</table>"
      ],
      "text/plain": [
       "Suit     | Length | HCP  | Controls | Bid Quality\n",
       "Spades   | 4      | 4    | 0        | 4.4\n",
       "Hearts   | 5      | 7    | 0        | 5.7\n",
       "Diamonds | 3      | 1    | 0        | 3.1\n",
       "Clubs    | 1      | 0    | 2        | 1"
      ]
     },
     "execution_count": 3,
     "metadata": {},
     "output_type": "execute_result"
    }
   ],
   "source": [
    "d2 = generate_deal('hcp(north) >= 5 && shape(north, any 4xxx + 65xx + any 75xx + any 7xxx + any 8xxx)')\n",
    "hand = d2.north\n",
    "hand.pprint()\n",
    "print('Total points =' , points_rs(hand))\n",
    "print('   The hand is a No Trump Opener: ', notrump(hand))\n",
    "# print('   The hand is a 2-suiter: ', ????(hand))\n",
    "h5 = hand\n",
    "controls(hand)\n",
    "make_bid_table(hand)"
   ]
  },
  {
   "cell_type": "code",
   "execution_count": 4,
   "id": "9644b998-b54e-44f0-91d6-757759279340",
   "metadata": {},
   "outputs": [
    {
     "name": "stdout",
     "output_type": "stream",
     "text": [
      "Points =  13 \n",
      "    Rule of 20? True\n",
      "♠ K8\n",
      "♥ QJ84\n",
      "♦ AQT52\n",
      "♣ 52\n"
     ]
    },
    {
     "data": {
      "text/html": [
       "<table border=\"1\" class=\"dataframe\">\n",
       "    <thead>\n",
       "        <tr>\n",
       "            <th>Suit</th> <th>Length</th> <th>HCP</th> <th>Controls</th> <th>Bid Quality</th>\n",
       "        </tr>\n",
       "    </thead>\n",
       "    <tbody>\n",
       "        <tr>\n",
       "            <td>Spades  </td> <td>2     </td> <td>3   </td> <td>2       </td> <td>2.3        </td>\n",
       "        </tr>\n",
       "        <tr>\n",
       "            <td>Hearts  </td> <td>4     </td> <td>3   </td> <td>0       </td> <td>4.3        </td>\n",
       "        </tr>\n",
       "        <tr>\n",
       "            <td>Diamonds</td> <td>5     </td> <td>6   </td> <td>0       </td> <td>5.6        </td>\n",
       "        </tr>\n",
       "        <tr>\n",
       "            <td>Clubs   </td> <td>2     </td> <td>0   </td> <td>0       </td> <td>2          </td>\n",
       "        </tr>\n",
       "    </tbody>\n",
       "</table>"
      ],
      "text/plain": [
       "Suit     | Length | HCP  | Controls | Bid Quality\n",
       "Spades   | 2      | 3    | 2        | 2.3\n",
       "Hearts   | 4      | 3    | 0        | 4.3\n",
       "Diamonds | 5      | 6    | 0        | 5.6\n",
       "Clubs    | 2      | 0    | 0        | 2"
      ]
     },
     "execution_count": 4,
     "metadata": {},
     "output_type": "execute_result"
    }
   ],
   "source": [
    "h5 = Hand('J.KQ986.K42.9732')\n",
    "h1 = Hand('K8.QJ84.AQT52.52')\n",
    "print('Points = ', points_rs(h1), '\\n    Rule of 20?', rule20(h2))\n",
    "h1.pprint()\n",
    "make_bid_table(h1)"
   ]
  },
  {
   "cell_type": "code",
   "execution_count": 5,
   "id": "c562b372-11a9-438e-a76a-22c4f27a112b",
   "metadata": {},
   "outputs": [
    {
     "name": "stdout",
     "output_type": "stream",
     "text": [
      "Points =  16 \n",
      "    Rule of 20? True\n",
      "♠ KT87\n",
      "♥ AQ987\n",
      "♦ KJ95\n",
      "♣ \n"
     ]
    },
    {
     "data": {
      "text/html": [
       "<table border=\"1\" class=\"dataframe\">\n",
       "    <thead>\n",
       "        <tr>\n",
       "            <th>Suit</th> <th>Length</th> <th>HCP</th> <th>Controls</th> <th>Bid Quality</th>\n",
       "        </tr>\n",
       "    </thead>\n",
       "    <tbody>\n",
       "        <tr>\n",
       "            <td>Spades  </td> <td>4     </td> <td>3   </td> <td>0       </td> <td>4.3        </td>\n",
       "        </tr>\n",
       "        <tr>\n",
       "            <td>Hearts  </td> <td>5     </td> <td>6   </td> <td>0       </td> <td>5.6        </td>\n",
       "        </tr>\n",
       "        <tr>\n",
       "            <td>Diamonds</td> <td>4     </td> <td>4   </td> <td>0       </td> <td>4.4        </td>\n",
       "        </tr>\n",
       "        <tr>\n",
       "            <td>Clubs   </td> <td>0     </td> <td>0   </td> <td>1       </td> <td>0          </td>\n",
       "        </tr>\n",
       "    </tbody>\n",
       "</table>"
      ],
      "text/plain": [
       "Suit     | Length | HCP  | Controls | Bid Quality\n",
       "Spades   | 4      | 3    | 0        | 4.3\n",
       "Hearts   | 5      | 6    | 0        | 5.6\n",
       "Diamonds | 4      | 4    | 0        | 4.4\n",
       "Clubs    | 0      | 0    | 1        | 0"
      ]
     },
     "execution_count": 5,
     "metadata": {},
     "output_type": "execute_result"
    }
   ],
   "source": [
    "h2 = Hand('KT87.AQ987.KJ95.')\n",
    "print('Points = ', points_rs(h2), '\\n    Rule of 20?', rule20(h2))\n",
    "h2.pprint()\n",
    "make_bid_table(h2)"
   ]
  },
  {
   "cell_type": "code",
   "execution_count": 6,
   "id": "1a26dc65-aa4a-48b8-8f1e-adf1a78174a7",
   "metadata": {},
   "outputs": [
    {
     "name": "stdout",
     "output_type": "stream",
     "text": [
      "Points =  12 \n",
      "    Rule of 20? True\n",
      "♠ J74\n",
      "♥ AQ93\n",
      "♦ KQ72\n",
      "♣ 42\n"
     ]
    },
    {
     "data": {
      "text/html": [
       "<table border=\"1\" class=\"dataframe\">\n",
       "    <thead>\n",
       "        <tr>\n",
       "            <th>Suit</th> <th>Length</th> <th>HCP</th> <th>Controls</th> <th>Bid Quality</th>\n",
       "        </tr>\n",
       "    </thead>\n",
       "    <tbody>\n",
       "        <tr>\n",
       "            <td>Spades  </td> <td>3     </td> <td>1   </td> <td>0       </td> <td>3.1        </td>\n",
       "        </tr>\n",
       "        <tr>\n",
       "            <td>Hearts  </td> <td>4     </td> <td>6   </td> <td>0       </td> <td>4.6        </td>\n",
       "        </tr>\n",
       "        <tr>\n",
       "            <td>Diamonds</td> <td>4     </td> <td>5   </td> <td>0       </td> <td>4.5        </td>\n",
       "        </tr>\n",
       "        <tr>\n",
       "            <td>Clubs   </td> <td>2     </td> <td>0   </td> <td>0       </td> <td>2          </td>\n",
       "        </tr>\n",
       "    </tbody>\n",
       "</table>"
      ],
      "text/plain": [
       "Suit     | Length | HCP  | Controls | Bid Quality\n",
       "Spades   | 3      | 1    | 0        | 3.1\n",
       "Hearts   | 4      | 6    | 0        | 4.6\n",
       "Diamonds | 4      | 5    | 0        | 4.5\n",
       "Clubs    | 2      | 0    | 0        | 2"
      ]
     },
     "execution_count": 6,
     "metadata": {},
     "output_type": "execute_result"
    }
   ],
   "source": [
    "h3 = Hand('J74.AQ93.KQ72.42')\n",
    "print('Points = ', points_rs(h3), '\\n    Rule of 20?', rule20(h3))\n",
    "h3.pprint()\n",
    "make_bid_table(h3)"
   ]
  },
  {
   "cell_type": "code",
   "execution_count": 7,
   "id": "97167605-e153-4bc1-b65b-1e853a06168e",
   "metadata": {},
   "outputs": [
    {
     "name": "stdout",
     "output_type": "stream",
     "text": [
      "Points =  17 \n",
      "    Rule of 20? True\n",
      "♠ 3\n",
      "♥ Q8\n",
      "♦ AT97653\n",
      "♣ AK2\n"
     ]
    },
    {
     "data": {
      "text/html": [
       "<table border=\"1\" class=\"dataframe\">\n",
       "    <thead>\n",
       "        <tr>\n",
       "            <th>Suit</th> <th>Length</th> <th>HCP</th> <th>Controls</th> <th>Bid Quality</th>\n",
       "        </tr>\n",
       "    </thead>\n",
       "    <tbody>\n",
       "        <tr>\n",
       "            <td>Spades  </td> <td>1     </td> <td>0   </td> <td>2       </td> <td>1          </td>\n",
       "        </tr>\n",
       "        <tr>\n",
       "            <td>Hearts  </td> <td>2     </td> <td>2   </td> <td>0       </td> <td>2.2        </td>\n",
       "        </tr>\n",
       "        <tr>\n",
       "            <td>Diamonds</td> <td>7     </td> <td>4   </td> <td>0       </td> <td>7.4        </td>\n",
       "        </tr>\n",
       "        <tr>\n",
       "            <td>Clubs   </td> <td>3     </td> <td>7   </td> <td>0       </td> <td>3.7        </td>\n",
       "        </tr>\n",
       "    </tbody>\n",
       "</table>"
      ],
      "text/plain": [
       "Suit     | Length | HCP  | Controls | Bid Quality\n",
       "Spades   | 1      | 0    | 2        | 1\n",
       "Hearts   | 2      | 2    | 0        | 2.2\n",
       "Diamonds | 7      | 4    | 0        | 7.4\n",
       "Clubs    | 3      | 7    | 0        | 3.7"
      ]
     },
     "execution_count": 7,
     "metadata": {},
     "output_type": "execute_result"
    }
   ],
   "source": [
    "h4 = Hand('3.Q8.AT97653.AK2')\n",
    "print('Points = ', points_rs(h4), '\\n    Rule of 20?', rule20(h4))\n",
    "h4.pprint()\n",
    "make_bid_table(h4)"
   ]
  },
  {
   "cell_type": "code",
   "execution_count": 8,
   "id": "05f85822-0b41-4b76-9c83-a442ce815472",
   "metadata": {},
   "outputs": [
    {
     "name": "stdout",
     "output_type": "stream",
     "text": [
      "Points =  11 \n",
      "    Rule of 20? False\n",
      "♠ J\n",
      "♥ KQ986\n",
      "♦ K42\n",
      "♣ 9732\n"
     ]
    },
    {
     "data": {
      "text/html": [
       "<table border=\"1\" class=\"dataframe\">\n",
       "    <thead>\n",
       "        <tr>\n",
       "            <th>Suit</th> <th>Length</th> <th>HCP</th> <th>Controls</th> <th>Bid Quality</th>\n",
       "        </tr>\n",
       "    </thead>\n",
       "    <tbody>\n",
       "        <tr>\n",
       "            <td>Spades  </td> <td>1     </td> <td>1   </td> <td>0       </td> <td>1.1        </td>\n",
       "        </tr>\n",
       "        <tr>\n",
       "            <td>Hearts  </td> <td>5     </td> <td>5   </td> <td>0       </td> <td>5.5        </td>\n",
       "        </tr>\n",
       "        <tr>\n",
       "            <td>Diamonds</td> <td>3     </td> <td>3   </td> <td>0       </td> <td>3.3        </td>\n",
       "        </tr>\n",
       "        <tr>\n",
       "            <td>Clubs   </td> <td>4     </td> <td>0   </td> <td>0       </td> <td>4          </td>\n",
       "        </tr>\n",
       "    </tbody>\n",
       "</table>"
      ],
      "text/plain": [
       "Suit     | Length | HCP  | Controls | Bid Quality\n",
       "Spades   | 1      | 1    | 0        | 1.1\n",
       "Hearts   | 5      | 5    | 0        | 5.5\n",
       "Diamonds | 3      | 3    | 0        | 3.3\n",
       "Clubs    | 4      | 0    | 0        | 4"
      ]
     },
     "execution_count": 8,
     "metadata": {},
     "output_type": "execute_result"
    }
   ],
   "source": [
    "h5 = Hand('J.KQ986.K42.9732')\n",
    "print('Points = ', points_rs(h5), '\\n    Rule of 20?', rule20(h5))\n",
    "h5.pprint()\n",
    "make_bid_table(h5)"
   ]
  },
  {
   "cell_type": "code",
   "execution_count": null,
   "id": "8c53e98d-618c-452c-a465-b967073ed471",
   "metadata": {},
   "outputs": [],
   "source": []
  },
  {
   "cell_type": "code",
   "execution_count": null,
   "id": "1901d6b7-8af3-47c6-9f18-c2b64796ecb2",
   "metadata": {},
   "outputs": [],
   "source": []
  },
  {
   "cell_type": "code",
   "execution_count": null,
   "id": "6b00faec-2e3d-477c-8738-ef171b423fad",
   "metadata": {},
   "outputs": [],
   "source": []
  }
 ],
 "metadata": {
  "kernelspec": {
   "display_name": "Python 3 (ipykernel)",
   "language": "python",
   "name": "python3"
  },
  "language_info": {
   "codemirror_mode": {
    "name": "ipython",
    "version": 3
   },
   "file_extension": ".py",
   "mimetype": "text/x-python",
   "name": "python",
   "nbconvert_exporter": "python",
   "pygments_lexer": "ipython3",
   "version": "3.13.5"
  }
 },
 "nbformat": 4,
 "nbformat_minor": 5
}