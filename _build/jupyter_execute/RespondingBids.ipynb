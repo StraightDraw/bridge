{
 "cells": [
  {
   "cell_type": "markdown",
   "id": "ac395423-8eb9-45f5-ace6-353eda15606b",
   "metadata": {},
   "source": [
    "# Responding Bids"
   ]
  },
  {
   "cell_type": "markdown",
   "id": "55bfae45-3502-420f-907f-6d3e36eb0529",
   "metadata": {},
   "source": [
    "Blue Club Dahlonega embraces the limiting nature of nearly every opening bid. Responder has only limit bids to offer with 2/1 bids game forcing as in most modern systems. A quick overview of responses shows the outline of the limit bids:\n",
    "- **Lowest level**: 7-11 points.\n",
    "- **Raise**: 12-16 points (standard 2/1 bid).\n",
    "- **Jump raise**: Splinter, 17+ points.\n",
    "\n",
    "The \"2 over 1\" promises standard opening values as is typical in modern bridge systems. A jump raise indicates a huge hand with 17+ points. A triple jump raise is a splinter bid indicating 4-card support or better for partner's suit and control of the suit bid. A splinter bid is forcing to game and indicates at least 12 points."
   ]
  },
  {
   "cell_type": "markdown",
   "id": "6551e57d-6992-4cfb-8628-cb5ecf7ac4c3",
   "metadata": {},
   "source": [
    "## Responding to an Opening Bid of 1$\\diamondsuit$, 1$\\heartsuit$ or 1$\\spadesuit$"
   ]
  },
  {
   "cell_type": "markdown",
   "id": "d38ff7f6-cdc2-44eb-bb11-17788784c5a7",
   "metadata": {},
   "source": [
    "<table style=\"width:90%\">\n",
    "  <colgroup>\n",
    "  <col span=\"1\" style=\"width: 15%;\">\n",
    "  <col span=\"1\" style=\"width: 20%;\">\n",
    "  <col span=\"1\" style=\"width: 65%;\">\n",
    "    </colgroup>\n",
    "  <tr>\n",
    "    <th>Response Bid</th>\n",
    "    <th>High Card Points</th> \n",
    "    <th>Meaning</th>\n",
    "  </tr>\n",
    "  <tr>\n",
    "    <td style=\"text-align: center; vertical-align: middle;\">1$\\heartsuit$ 1$\\spadesuit$</td>\n",
    "    <td style=\"text-align: center; vertical-align: middle;\">7 - 11</td>\n",
    "    <td>Game values unlikely, but at least 4 cards in suit bid.</td>\n",
    "  </tr>\n",
    "  <tr>\n",
    "    <td style=\"text-align: center; vertical-align: middle;\">1NT</td>\n",
    "    <td style=\"text-align: center; vertical-align: middle;\">21 - 23</td>\n",
    "    <td>Denial of fit with game values unlikely, this bid give opener the chance to show a second suit with a canape bid.</td>\n",
    "  </tr>\n",
    "  <tr>\n",
    "    <td style=\"text-align: center; vertical-align: middle;\">2$\\clubsuit$ 2$\\diamondsuit$</br>2$\\heartsuit$ 2$\\spadesuit$</td>\n",
    "    <td style=\"text-align: center; vertical-align: middle;\">12 - 16</td>\n",
    "    <td>Typical 2/1 game force, at least 4 cards in suit bid.</td>\n",
    "  </tr>\n",
    "  <tr>\n",
    "    <td style=\"text-align: center; vertical-align: middle;\">2NT</td>\n",
    "    <td style=\"text-align: center; vertical-align: middle;\">12 - 16</td>\n",
    "    <td>Balanced, poor support for partner's suit. Game invite to 3NT.</td>\n",
    "  </tr>\n",
    "  <tr>\n",
    "    <td style=\"text-align: center; vertical-align: middle;\">3$\\clubsuit$ 3$\\diamondsuit$ </br> 3$\\heartsuit$ 3$\\spadesuit$</td>\n",
    "    <td style=\"text-align: center; vertical-align: middle;\">17+</td>\n",
    "    <td>Splinter bid: game forcing and slam seaking. At least 4 card support for partner's suit with 1st round control of suit bid.</td>\n",
    "  </tr>\n",
    "  <tr>\n",
    "    <td style=\"text-align: center; vertical-align: middle;\">3NT</td>\n",
    "    <td style=\"text-align: center; vertical-align: middle;\">17+</td>\n",
    "    <td>Artificial, big hand, awaiting developments.</td>\n",
    "  </tr>\n",
    "</table>"
   ]
  },
  {
   "cell_type": "markdown",
   "id": "0088eb56-cca7-4c0e-807f-21d8ee34f07b",
   "metadata": {},
   "source": [
    "## Responding to an Opening Bid of 1$\\clubsuit$"
   ]
  },
  {
   "cell_type": "markdown",
   "id": "25def3a1-23b8-463c-af14-1cf169b0e2d9",
   "metadata": {},
   "source": [
    "<table style=\"width:90%\">\n",
    "  <colgroup>\n",
    "  <col span=\"1\" style=\"width: 15%;\">\n",
    "  <col span=\"1\" style=\"width: 20%;\">\n",
    "  <col span=\"1\" style=\"width: 65%;\">\n",
    "    </colgroup>\n",
    "  <tr>\n",
    "    <th>Response Bid</th>\n",
    "    <th>High Card Points</th> \n",
    "    <th>Meaning</th>\n",
    "  </tr>\n",
    "  <tr>\n",
    "    <td style=\"text-align: center; vertical-align: middle;\">1$\\diamondsuit$ 1$\\heartsuit$ 1$\\spadesuit$</td>\n",
    "    <td style=\"text-align: center; vertical-align: middle;\">7 - 11</td>\n",
    "    <td>At least 4 cards in suit bid.</br>Game values assured if either teammate has more than the absolute minimum.</td>\n",
    "  </tr>\n",
    "  <tr>\n",
    "    <td style=\"text-align: center; vertical-align: middle;\">1NT</td>\n",
    "    <td style=\"text-align: center; vertical-align: middle;\">7 - 11</td>\n",
    "    <td>Semi-ballanced.</td>\n",
    "  </tr>\n",
    "  <tr>\n",
    "    <td style=\"text-align: center; vertical-align: middle;\">2$\\clubsuit$ 2$\\diamondsuit$</br>2$\\heartsuit$ 2$\\spadesuit$</td>\n",
    "    <td style=\"text-align: center; vertical-align: middle;\">12 - 16</td>\n",
    "    <td>At least 4 cards in suit bid.</br>Slam invitational as partnership has at least 29 points.</td>\n",
    "  </tr>\n",
    "  <tr>\n",
    "    <td style=\"text-align: center; vertical-align: middle;\">2NT</td>\n",
    "    <td style=\"text-align: center; vertical-align: middle;\">12 - 16</td>\n",
    "    <td>Semi-ballanced and slam invitational.</td>\n",
    "  </tr>\n",
    "  <tr>\n",
    "    <td style=\"text-align: center; vertical-align: middle;\">3NT</td>\n",
    "    <td style=\"text-align: center; vertical-align: middle;\">17 - 21</td>\n",
    "    <td>Balanced, awaiting developments.Slam values guaranteed.</br>Partnership needs fit in a suit slam or to have all suits cotrolled for a NT slam.</td>\n",
    "  </tr>\n",
    "</table>\n"
   ]
  },
  {
   "cell_type": "markdown",
   "id": "8b1ebd64-5c35-40ca-9396-9353cf6f6dc1",
   "metadata": {},
   "source": [
    "## Responding to an Opening Bid of 1NT"
   ]
  },
  {
   "cell_type": "markdown",
   "id": "63cbb4a2-c821-4494-bf01-3527376e8382",
   "metadata": {},
   "source": [
    "<table style=\"width:90%\">\n",
    "  <colgroup>\n",
    "  <col span=\"1\" style=\"width: 15%;\">\n",
    "  <col span=\"1\" style=\"width: 20%;\">\n",
    "  <col span=\"1\" style=\"width: 65%;\">\n",
    "    </colgroup>\n",
    "  <tr>\n",
    "    <th>Response Bid</th>\n",
    "    <th>High Card Points</th> \n",
    "    <th>Meaning</th>\n",
    "  </tr>\n",
    "  <tr>\n",
    "    <td style=\"text-align: center; vertical-align: middle;\">2$\\clubsuit$</td>\n",
    "    <td style=\"text-align: center; vertical-align: middle;\">7 - 11</td>\n",
    "    <td><span style='color:blue;font-weight:bold'>Stayman</span>: Game invitational: 8 cards in the majors: may be 5-3.</br>No fewer than 3 cards in shorter major.</td>\n",
    "  </tr>\n",
    "  <tr>\n",
    "    <td style=\"text-align: center; vertical-align: middle;\">2$\\diamondsuit$</br>2$\\diamondsuit$ 2$\\heartsuit$ 2$\\spadesuit$</td>\n",
    "    <td style=\"text-align: center; vertical-align: middle;\">5 - 6</br>7 - 11</td>\n",
    "    <td>Diamonds can be denial with 5 or 6 points, any shape, or 7 - 11 points balanced (NT).</br>Waiting, game invitational: 4 or more cards in the suit bid.</td>\n",
    "  </tr>\n",
    "  <tr>\n",
    "    <td style=\"text-align: center; vertical-align: middle;\">2NT</td>\n",
    "    <td style=\"text-align: center; vertical-align: middle;\">12 - 14</td>\n",
    "    <td>Balanced, waiting. Game forcing.</td>\n",
    "  </tr>\n",
    "  <tr>\n",
    "    <td style=\"text-align: center; vertical-align: middle;\">3$\\diamondsuit$ 3$\\heartsuit$ 3$\\spadesuit$</td>\n",
    "    <td style=\"text-align: center; vertical-align: middle;\">12 - 16</td>\n",
    "    <td>At least 4 cards in suit bid.</br>slam possible if both players near maximum, .</td>\n",
    "  </tr>\n",
    "  <tr>\n",
    "    <td style=\"text-align: center; vertical-align: middle;\">3NT</td>\n",
    "    <td style=\"text-align: center; vertical-align: middle;\">15 - 17</td>\n",
    "    <td>Balanced and game forcing.</br>Slam invitational.</td>\n",
    "  </tr>\n",
    "</table>"
   ]
  },
  {
   "cell_type": "markdown",
   "id": "64246ba9-a9d5-4bf0-bd75-e6f2144d762f",
   "metadata": {},
   "source": [
    "A difficulty arises when the responder to 1NT has 7 - 11 HCP and a balanced hand. Bidding 2 NT will mislead partner about the high card points we have. Responder must bid a 4-card suit, but that suit might be weak. However, there is no better solution."
   ]
  },
  {
   "cell_type": "code",
   "execution_count": null,
   "id": "b9984a24-7f6b-4869-8e46-694b37cfd247",
   "metadata": {},
   "outputs": [],
   "source": []
  }
 ],
 "metadata": {
  "kernelspec": {
   "display_name": "Python 3 (ipykernel)",
   "language": "python",
   "name": "python3"
  },
  "language_info": {
   "codemirror_mode": {
    "name": "ipython",
    "version": 3
   },
   "file_extension": ".py",
   "mimetype": "text/x-python",
   "name": "python",
   "nbconvert_exporter": "python",
   "pygments_lexer": "ipython3",
   "version": "3.13.5"
  }
 },
 "nbformat": 4,
 "nbformat_minor": 5
}