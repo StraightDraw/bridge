{
 "cells": [
  {
   "cell_type": "markdown",
   "id": "b29440c4-3188-4237-855c-ac92c2287131",
   "metadata": {},
   "source": [
    "# Bidding the Hands in Blue Club Dahlonega\n",
    "\n",
    "What follows is the fun work of looking a random bridge deals to see how our bidding holds up."
   ]
  },
  {
   "cell_type": "code",
   "execution_count": 1,
   "id": "a53d967d-253a-4e24-99be-b578797621dd",
   "metadata": {},
   "outputs": [
    {
     "name": "stderr",
     "output_type": "stream",
     "text": [
      "C:\\Users\\rsinn\\anaconda3\\envs\\bridge\\Lib\\site-packages\\requests\\__init__.py:86: RequestsDependencyWarning: Unable to find acceptable character detection dependency (chardet or charset_normalizer).\n",
      "  warnings.warn(\n"
     ]
    }
   ],
   "source": [
    "# Standard Datascience initialization code plus Endplay.\n",
    "from datascience import *\n",
    "%matplotlib inline\n",
    "import matplotlib.pyplot as plots\n",
    "plots.style.use('fivethirtyeight')\n",
    "import numpy as np\n",
    "import scipy.stats as stats\n",
    "from endplay import *\n",
    "\n",
    "import import_ipynb\n",
    "from endplay.types import Deal\n",
    "from bc_functions import *"
   ]
  },
  {
   "cell_type": "code",
   "execution_count": null,
   "id": "08000919-6170-40cb-b8fe-330fd97c52a3",
   "metadata": {},
   "outputs": [],
   "source": []
  },
  {
   "cell_type": "code",
   "execution_count": 2,
   "id": "1a0cd263-a4a5-4a6f-a2cc-fc60f6e55fdf",
   "metadata": {},
   "outputs": [
    {
     "name": "stdout",
     "output_type": "stream",
     "text": [
      "Points =  20  and hand is 2-suiter  {'ts': True, 'p': 'Spades', 's': 'Diamonds'} \n",
      "\n",
      "♠ AKQJ92\n",
      "♥ KT\n",
      "♦ T943\n",
      "♣ A\n"
     ]
    }
   ],
   "source": [
    "d1 = Deal(\"AKQJ92.KT.T943.A 843.QJ8632..KQ65 76.9.AKJ65.T9843 T5.A754.Q872.J72\")\n",
    "hand = d1.north\n",
    "print('Points = ' , points_rs(hand) , ' and hand is 2-suiter ' , twosuiter(hand) , '\\n')\n",
    "d1.north.pprint()"
   ]
  },
  {
   "cell_type": "markdown",
   "id": "146c5f90-71cf-4401-8df7-92211bfba75a",
   "metadata": {},
   "source": [
    "<table style=\"width:80%\">\n",
    "  <colgroup>\n",
    "  <col span=\"1\" style=\"width: 10%;\">\n",
    "  <col span=\"1\" style=\"width: 10%;\">\n",
    "  <col span=\"1\" style=\"width: 65%;\">\n",
    "    </colgroup>\n",
    "  <tr>\n",
    "    <th>Hand</th>\n",
    "    <th>Bidding</th> \n",
    "    <th>Notes</th>\n",
    "  </tr>\n",
    "  <tr>\n",
    "    <td style=\"text-align: center; vertical-align: middle;\"><span style = 'color:blue; font-weight:bold'>North</span></br>AKQJ92</br>KT</br>T943</br>A</td>\n",
    "    <td style=\"text-align: center; vertical-align: middle;\">1C - &nbsp;&nbsp;&nbsp;&nbsp;</td>\n",
    "    <td>North picks up a distributional hand with 20 points. On this 2-suiter, a canape sequence will allow North to show the 6 Spades on the third round. Thus, a 1C opening bid fits the bill. The plan is show Diamonds first, then Spades.</td>\n",
    "  </tr>\n",
    "  <tr>\n",
    "    <td style=\"text-align: center; vertical-align: middle;\"><span style = 'color:blue; font-weight:bold'>South</span></br>76</br>9</br>AKJ65</br>T9843</td>\n",
    "    <td style=\"text-align: center; vertical-align: middle;\">1C - 1D</td>\n",
    "    <td>South finds 11 points but only 8 HCP. Knowing distributional points are worth extra if a fit is found but worthless without fit, South bids carefully with 1D. The response of 2C with a canape bid into Diamonds is too aggressive given how weak the team holdings may be at this point.</td>\n",
    "  </tr>\n",
    "  <tr>\n",
    "    <td style=\"text-align: center; vertical-align: middle;\"><span style = 'color:blue; font-weight:bold'>North</span></br>AKQJ92</br>KT</br>T943</br>A</td>\n",
    "    <td style=\"text-align: center; vertical-align: middle;\">1C - 1D</br>2D - &nbsp;&nbsp;&nbsp;&nbsp;</td>\n",
    "    <td>North knows South has 3+ Diamonds and likely 4 or more. North bids 2C to show fit with a jump canape planned to show 6+ spades. The 1D response to 1C from South could have only 3 Diamonds such as 5332 distribution that can't be opened with a standard 1C. North will be thrilled if this is the typical level-one response of 7-11 HCP with 4+ trumps.</td>\n",
    "  </tr>\n",
    "  <tr>\n",
    "    <td style=\"text-align: center; vertical-align: middle;\"><span style = 'color:blue; font-weight:bold'>South</span></br>76</br>9</br>AKJ65</br>T9843</td>\n",
    "    <td style=\"text-align: center; vertical-align: middle;\">1C - 1D</br>2D - 3D</td>\n",
    "    <td>South confirms at least 4 Diamonds by rebidding the suit. From his point of view the 3NT game is still possible if North controls the majors.</td>\n",
    "  </tr>\n",
    "  <tr>\n",
    "    <td style=\"text-align: center; vertical-align: middle;\"><span style = 'color:blue; font-weight:bold'>North</span></br>AKQJ92</br>KT</br>T943</br>A</td>\n",
    "    <td style=\"text-align: center; vertical-align: middle;\">1C - 1D</br>2D - 3D</br>4S - &nbsp;&nbsp;&nbsp;&nbsp;</td>\n",
    "    <td>North knows that the contract will be 3NT, 4S or 5D. The team may be thain at 3NT as either Hearts and Clubs could be an issue. A bid of 4S may be risky if South has a singleton Spade or worse, but North expects a rasie to 5D if that's the case.</td>\n",
    "  </tr>\n",
    "  <tr>\n",
    "    <td style=\"text-align: center; vertical-align: middle;\"><span style = 'color:blue; font-weight:bold'>South</span></br>76</br>9</br>AKJ65</br>T9843</td>\n",
    "    <td style=\"text-align: center; vertical-align: middle;\">1C - 1D</br>2D - 3D</br>4S - Pass</td>\n",
    "    <td>The canape guarantees 5 or more Spades from North, but the jump is curious. The jump either expresses a higher point count than expected or a 6+ card trump suit. South cannot see North's Diamond suit, so he trusts his partner to know what he's doing.</td>\n",
    "  </tr>\n",
    "</table>"
   ]
  },
  {
   "cell_type": "markdown",
   "id": "87bc7eb9-1a3a-4ec8-abfc-0273dac44260",
   "metadata": {},
   "source": [
    "As shown below, all three game contracts can be made. Of them, 4S is the most profitable."
   ]
  },
  {
   "cell_type": "code",
   "execution_count": 3,
   "id": "f9882789-a41b-4ba1-87e7-607c866796d9",
   "metadata": {},
   "outputs": [
    {
     "name": "stdout",
     "output_type": "stream",
     "text": [
      "              AKQJ92\n",
      "              KT\n",
      "              T943\n",
      "              A\n",
      "T5                          843\n",
      "A754                        QJ8632\n",
      "Q872                        ---\n",
      "J72                         KQ65\n",
      "              76\n",
      "              9\n",
      "              AKJ65\n",
      "              T9843\n",
      "\n",
      "\n",
      "     ♣  ♦  ♥  ♠ NT\n",
      "  N  8 11  4 10  9\n",
      "  S  8 11  4 10  9\n",
      "  E  5  2  9  2  2\n",
      "  W  5  2  9  2  2\n"
     ]
    }
   ],
   "source": [
    "d1.pprint()\n",
    "table = calc_dd_table(d1)\n",
    "print('\\n')\n",
    "table.pprint()"
   ]
  },
  {
   "cell_type": "code",
   "execution_count": null,
   "id": "684b6627-c3bb-4096-ad8f-dfa55b2e3204",
   "metadata": {},
   "outputs": [],
   "source": []
  },
  {
   "cell_type": "code",
   "execution_count": 4,
   "id": "9124cf36-90b0-439d-a38d-963904f1e219",
   "metadata": {},
   "outputs": [
    {
     "name": "stdout",
     "output_type": "stream",
     "text": [
      "♠ 842\n",
      "♥ AJ\n",
      "♦ KQT6\n",
      "♣ KQ74\n",
      "Points =  15  and hand is 2-suiter  {'ts': False, 'p': 'Diamonds', 's': 'Clubs'} \n",
      "\n",
      "              842\n",
      "              AJ\n",
      "              KQT6\n",
      "              KQ74\n",
      "---                         KT963\n",
      "K9652                       7\n",
      "A853                        J972\n",
      "A962                        T83\n",
      "              AQJ75\n",
      "              QT843\n",
      "              4\n",
      "              J5\n"
     ]
    },
    {
     "name": "stdout",
     "output_type": "stream",
     "text": [
      "\n",
      " \n",
      "\n",
      "     ♣  ♦  ♥  ♠ NT\n",
      "  N  7  6  8  9 10\n",
      "  S  7  6  8  9 10\n",
      "  E  4  6  5  4  3\n",
      "  W  4  6  5  3  3\n"
     ]
    }
   ],
   "source": [
    "d = generate_deal('hcp(north) >= 15 && shape(north, any 4xxx + 65xx + any 75xx + any 7xxx + any 8xxx) && hcp(south) >=7')\n",
    "N = d.north\n",
    "N.pprint()\n",
    "hand = d.north\n",
    "print('Points = ' , points_rs(N) , ' and hand is 2-suiter ' , twosuiter(N) , '\\n')\n",
    "d.pprint()\n",
    "table = calc_dd_table(d)\n",
    "print('\\n','\\n')\n",
    "table.pprint()"
   ]
  },
  {
   "cell_type": "code",
   "execution_count": null,
   "id": "f1beb8e1-26c8-49c1-9821-085ff5247096",
   "metadata": {},
   "outputs": [],
   "source": []
  },
  {
   "cell_type": "code",
   "execution_count": 5,
   "id": "8a19d03d-31b8-4587-831f-17fcf6c30c0a",
   "metadata": {},
   "outputs": [
    {
     "name": "stdout",
     "output_type": "stream",
     "text": [
      "Points =  22  and hand is 2-suiter  {'ts': True, 'p': 'Spades', 's': 'Clubs'} \n",
      "\n",
      "              KQJT8\n",
      "              A\n",
      "              AKQ\n",
      "              JT83\n",
      "9752                        6\n",
      "963                         K85\n",
      "J54                         T863\n",
      "542                         AK976\n",
      "              A43\n",
      "              QJT742\n",
      "              972\n",
      "              Q\n",
      "\n",
      " \n",
      "\n",
      "     ♣  ♦  ♥  ♠ NT\n",
      "  N  8 11  4 10  9\n",
      "  S  8 11  4 10  9\n",
      "  E  5  2  9  2  2\n",
      "  W  5  2  9  2  2\n"
     ]
    }
   ],
   "source": [
    "d2 = Deal(\"KQJT8.A.AKQ.JT83 6.K85.T863.AK976 A43.QJT742.972.Q 9752.963.J54.542\")\n",
    "hand = d2.north\n",
    "print('Points = ' , points_rs(hand) , ' and hand is 2-suiter ' , twosuiter(hand) , '\\n')\n",
    "d2.pprint()\n",
    "table = calc_dd_table(d1)\n",
    "print('\\n','\\n')\n",
    "table.pprint()"
   ]
  },
  {
   "cell_type": "code",
   "execution_count": null,
   "id": "5a2a29f8-16b9-4589-bc70-98cd93d8bb5b",
   "metadata": {},
   "outputs": [],
   "source": []
  }
 ],
 "metadata": {
  "kernelspec": {
   "display_name": "Python 3 (ipykernel)",
   "language": "python",
   "name": "python3"
  },
  "language_info": {
   "codemirror_mode": {
    "name": "ipython",
    "version": 3
   },
   "file_extension": ".py",
   "mimetype": "text/x-python",
   "name": "python",
   "nbconvert_exporter": "python",
   "pygments_lexer": "ipython3",
   "version": "3.13.5"
  }
 },
 "nbformat": 4,
 "nbformat_minor": 5
}