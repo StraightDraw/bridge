{
 "cells": [
  {
   "cell_type": "markdown",
   "id": "d550df25-7e31-4787-81cc-12655252109c",
   "metadata": {},
   "source": [
    "# Sandbox"
   ]
  },
  {
   "cell_type": "code",
   "execution_count": null,
   "id": "e4546e42-a763-4510-8500-c8dcd718956b",
   "metadata": {},
   "outputs": [],
   "source": [
    "# Standard Datascience initialization code plus Pandas.\n",
    "from datascience import *\n",
    "%matplotlib inline\n",
    "import matplotlib.pyplot as plots\n",
    "plots.style.use('fivethirtyeight')\n",
    "import numpy as np\n",
    "import scipy.stats as stats\n",
    "from endplay import *\n",
    "\n",
    "import import_ipynb\n",
    "from blueclub import *"
   ]
  },
  {
   "cell_type": "code",
   "execution_count": 5,
   "id": "d771de75-edd9-4b7b-a495-83ff126d50f0",
   "metadata": {},
   "outputs": [],
   "source": [
    "def o1(hnd):\n",
    "   bid = False ; [p, s] = biddable(hnd)\n",
    "   if (notrump(hnd) ):\n",
    "      bid = o1_NT(hnd)\n",
    "   elif ( strong_club(hnd) ):\n",
    "      bid = o1_oneclub(hnd)\n",
    "   elif ( levelone(hnd) ):\n",
    "      bid = o1_levelone(hnd)\n",
    "   elif ( o1_w2(hnd) ):\n",
    "      bid = '2' + p\n",
    "   elif ( o1_p3(hnd) ):\n",
    "      bid = '3' + p\n",
    "   return bid"
   ]
  },
  {
   "cell_type": "code",
   "execution_count": 6,
   "id": "c574f145-da5a-4085-bd36-106afafad33b",
   "metadata": {},
   "outputs": [
    {
     "name": "stdout",
     "output_type": "stream",
     "text": [
      "♠ AT62\n",
      "♥ Q8\n",
      "♦ A4\n",
      "♣ J7642\n",
      "Total points = 12\n",
      "   The hand is a No Trump Opener:  False\n",
      "   The hand has the following controls:  [0 0 1 0]\n"
     ]
    }
   ],
   "source": [
    "d2 = generate_deal('hcp(north) >= 5 && shape(north, any 4xxx + 65xx + any 75xx + any 7xxx + any 8xxx)')\n",
    "hand = d2.north\n",
    "hand.pprint()\n",
    "print('Total points =' , points_rs(hand))\n",
    "print('   The hand is a No Trump Opener: ', notrump(hand))\n",
    "print('   The hand has the following controls: ', controls(hand))"
   ]
  }
 ],
 "metadata": {
  "kernelspec": {
   "display_name": "Python 3 (ipykernel)",
   "language": "python",
   "name": "python3"
  },
  "language_info": {
   "codemirror_mode": {
    "name": "ipython",
    "version": 3
   },
   "file_extension": ".py",
   "mimetype": "text/x-python",
   "name": "python",
   "nbconvert_exporter": "python",
   "pygments_lexer": "ipython3",
   "version": "3.12.8"
  }
 },
 "nbformat": 4,
 "nbformat_minor": 5
}
