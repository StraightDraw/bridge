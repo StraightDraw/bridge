{
 "cells": [
  {
   "cell_type": "markdown",
   "id": "8c0861ee-8692-4ac3-9963-279709222db1",
   "metadata": {},
   "source": [
    "# Defensive Conventions\n",
    "\n",
    "When defending against a strong $1\\clubsuit$, modern bridge partnerships tend to rely upon conventions such as:\n",
    "- [Mathe](https://www.bridgebum.com/mathe_1c.php)\n",
    "- [CRASH](https://www.bridgebum.com/crash.php)\n",
    "- [suction](https://www.bridgebum.com/suction.php)\n",
    "- [Truscotte](https://www.bridgebum.com/truscott_1c.php)\n",
    "- [Walsh](https://www.bridgebum.com/walsh_responses_to_1c.php)\n",
    "\n",
    "This will provide a brief overview for understanding"
   ]
  },
  {
   "cell_type": "code",
   "execution_count": null,
   "id": "5d32e9d4-ce8f-41a4-838d-756e3fb2ee4d",
   "metadata": {},
   "outputs": [],
   "source": []
  }
 ],
 "metadata": {
  "kernelspec": {
   "display_name": "Python 3 (ipykernel)",
   "language": "python",
   "name": "python3"
  },
  "language_info": {
   "codemirror_mode": {
    "name": "ipython",
    "version": 3
   },
   "file_extension": ".py",
   "mimetype": "text/x-python",
   "name": "python",
   "nbconvert_exporter": "python",
   "pygments_lexer": "ipython3",
   "version": "3.13.5"
  }
 },
 "nbformat": 4,
 "nbformat_minor": 5
}
