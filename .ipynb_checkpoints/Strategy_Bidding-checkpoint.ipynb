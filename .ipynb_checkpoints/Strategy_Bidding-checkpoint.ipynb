{
 "cells": [
  {
   "cell_type": "markdown",
   "id": "67e78a43-3ff7-4b07-8b26-1633f3a8a078",
   "metadata": {},
   "source": [
    "# Bidding Strategy\n",
    "\n",
    "Blue Club players prefer bids that narrow the possible strength of our hand in terms of points. The $1\\clubsuit$ bid identifies a strong hand but also limits the other suit bids at the level of one. Responder's bids also limit her hand, so the partnership quickly knows their combined strength.\n",
    "\n",
    "While points are vital, suits and fit are even more important in Blue Club. A bridge partnership needs 8 trumps to make game. A <span style = 'color:blue;font-weight:bold'>superfit</span> of 9 or more trumps adds tremendous trick-taking power. Blue Club bids alert partner to interesting features like a long suit, a two-suiter or a void suit."
   ]
  },
  {
   "cell_type": "markdown",
   "id": "c490c9e1-fd9b-479e-a4a4-40bd367f072e",
   "metadata": {},
   "source": [
    "## Hand Strength\n",
    "\n",
    "Bidding narrows our strength to a 5-point range except in No Trump, where the bids (as is typical) identify a balanced hand and a 3-point range. The following chart summarizes our possible hands in terms of strength."
   ]
  },
  {
   "cell_type": "markdown",
   "id": "1d5f0f61-4d5e-4bb3-9df1-476594943935",
   "metadata": {},
   "source": [
    "<table style=\"width:50%\">\n",
    "  <tr>\n",
    "    <th style=\"width:17%\">Points</th> \n",
    "    <th style=\"width:23%\">Hand</th>\n",
    "    <th style=\"width:60%\">Description</th>\n",
    "  </tr>\n",
    "  <tr>\n",
    "    <td style='text-align:center; vertical-align:middle'>7-11</td>\n",
    "    <td style='text-align:center; vertical-align:middle'><b>Weak</b></td>\n",
    "    <td style='text-align:center; vertical-align:middle'>Weak 2 hand: 6+ trumps or solid 5 such as AQxxx or KQJxx.</td>\n",
    "  </tr>\n",
    "  <tr>\n",
    "    <td style='text-align:center; vertical-align:middle'>12-16</td>\n",
    "    <td style='text-align:center; vertical-align:middle'><b>Standard</b></td>\n",
    "    <td style='text-align:center; vertical-align:middle'>Promises 4 trumps: opens 4-card majors.</td>\n",
    "  </tr>\n",
    "  <tr>\n",
    "    <td style='text-align:center; vertical-align:middle'>17-21</td>\n",
    "    <td style='text-align:center; vertical-align:middle'><b>Strong</b></td>\n",
    "    <td style='text-align:center; vertical-align:middle'>Any hand with 17 or more points unsuitable for a No Trump bid. Tends to be distributional.</td>\n",
    "  </tr>\n",
    "  <tr>\n",
    "    <td style='text-align:center; vertical-align:middle'>22+</td>\n",
    "    <td style='text-align:center; vertical-align:middle'><b>Monster</b></td>\n",
    "    <td style='text-align:center; vertical-align:middle'>Any hand with 22 or more points.</td>\n",
    "  </tr>\n",
    "  <tr>\n",
    "    <td style='text-align:center; vertical-align:middle'>15-17</br>18-20</br>21-23</td>\n",
    "    <td style='text-align:center; vertical-align:middle'><b>1 No Trump</br>2 No Trump</br>3 No Trump</td>\n",
    "    <td style='text-align:center; vertical-align:middle'>Balanced hand with at least 3 points in any 2-card suit.</td>\n",
    "  </tr>\n",
    "</table>"
   ]
  },
  {
   "cell_type": "markdown",
   "id": "40a2ee36-4262-4c87-ac5c-680aad081fc7",
   "metadata": {},
   "source": [
    "The ranges fit together neatly:\n",
    "\n",
    "- Standard + Strong = Possible **Slam**.\n",
    "- Standard + Standard = **Game**.\n",
    "- Strong + Weak = **Game**.\n",
    "- Weak + 2NT = **Game**.\n",
    "\n",
    "Within 2 rounds of bidding, if left alone in the auction, the Blue Club players will have a very good understanding of the shape and strength of their combined holdings."
   ]
  },
  {
   "cell_type": "markdown",
   "id": "cfed7771-d745-4ea4-adac-af56987bc268",
   "metadata": {},
   "source": [
    "## Opening Bids\n",
    "\n",
    "The opening bids provide a range of possible points in the hand, and the ranges for standard suit openings and weak 2 preemptive opening are familiar to most bridge players as most bidding sytems open similar hands in similar ways.\n",
    "\n",
    "- Weak 2: 7 - 11 points\n",
    "- 1$\\diamondsuit$ 1$\\heartsuit$ 1$\\spadesuit$ : 12 - 16 points\n",
    "- 1 NT : 15 - 17 points\n",
    "- 1$\\clubsuit$: 17+ points"
   ]
  },
  {
   "cell_type": "markdown",
   "id": "13c72932-d68d-48e2-acb5-f5e9ce9b7d0a",
   "metadata": {},
   "source": [
    "The departure from SAYC or 2/1 is the strong club opening signaling a big hand of 17 points or more. No distribution is known. No information about long or short suits is known. We know this strong hand has **not been opened 1NT or 2NT**, so it is likely to be **distributional** rather than balanced."
   ]
  },
  {
   "cell_type": "markdown",
   "id": "9bce041b-7695-40ed-b584-9f84cea671bc",
   "metadata": {},
   "source": [
    "## Responding Bids\n",
    "\n",
    "The response bidding is largely natural, and resonder will limit each bid to a very specific range of points. If she bids at:\n",
    "\n",
    "- Lowest possible level: 7 - 11 points\n",
    "- Raise 1 level: 12-16 points\n",
    "- Jump raise: 17+ points\n",
    "\n",
    "Responder can bid NT if her hand is balanced, and those specific responses will be covered in detail later."
   ]
  },
  {
   "cell_type": "code",
   "execution_count": null,
   "id": "c995cf14-56df-4118-89e2-6d9f810807aa",
   "metadata": {},
   "outputs": [],
   "source": []
  }
 ],
 "metadata": {
  "kernelspec": {
   "display_name": "Python 3 (ipykernel)",
   "language": "python",
   "name": "python3"
  },
  "language_info": {
   "codemirror_mode": {
    "name": "ipython",
    "version": 3
   },
   "file_extension": ".py",
   "mimetype": "text/x-python",
   "name": "python",
   "nbconvert_exporter": "python",
   "pygments_lexer": "ipython3",
   "version": "3.13.5"
  }
 },
 "nbformat": 4,
 "nbformat_minor": 5
}
