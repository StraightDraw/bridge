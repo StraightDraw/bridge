{
 "cells": [
  {
   "cell_type": "markdown",
   "id": "6c4878e2-3a7a-4ed9-a646-26977f2b9776",
   "metadata": {},
   "source": [
    "# Competitive Auctions\n",
    "\n",
    "Opponents know that they cannot allow time and bidding space to a team bidding in Blue Club style, else the Blue Club team will find a good contract and possibly a slam that other teams may not. Thus, the response to a strong club system in modern bridge circles is aggression generally in the form of overalls.\n",
    "\n",
    "Yet, the Blue Club player has little to fear from overcalls. If partner opens $1\\clubsuit$ and we have 7-11 points, our Blue Club partnership has enough points for game. The intervening weak 2 overcall doesn't change anything except the amount of information we have on how to play the hand as declarer once in contract. The opponents do well when they rather miraculously find a superfit. Knowing they have good trumps, they can bid with some degree of confidence at the 3-level which does seriously erode the Blue Club team's opportunities to exchange information and find the correct contract."
   ]
  },
  {
   "cell_type": "markdown",
   "id": "3c1edcc8-c6b3-4ac9-ada8-c3485f52f7aa",
   "metadata": {},
   "source": [
    "Given the defense against Blue Club tends to alert them to the best way to play the hand, many responses to strong club systems have become gimicky with conventions like **suction**. Here, the overcalls have dual meanings. Surely this hides information from the Blue Club team, but it hides information from partner, too. Perhaps **Mathe** is reasonably natural, but other responses to strong club bidding like **CRASH** are a bit articifial and require good memory skills. Staying organized and calm, the Blue Club player can still accurately paint a picture of her hand. The[Defensive Conventions page](../DefensiveConventions.ipynb) describes the major forms that the interference will take."
   ]
  },
  {
   "cell_type": "markdown",
   "id": "48b9cb08-52b7-482d-9365-889e7f4315f8",
   "metadata": {},
   "source": [
    "## Overcalls of $1\\clubsuit$\n",
    "\n",
    "Many modern players will overcall a $1\\clubsuit$ opening bid even if light just to interfere. In Blue Club, we have the following general ideas to a Weak 2 overcall remembering that, at 7 or more points, we likely have game-going values:\n",
    "\n",
    "- Pass: 6 or fewer points\n",
    "- 2-level suit bid: single-suiter, natural, 7-11 points\n",
    "- 2NT: balanced or semi-balanced with 7-11 points (may not have opponent's suit controlled)\n",
    "- 3-level suit bid: natural, 12-16 points\n",
    "- 3NT: balanced or semi-balanced 12 - 16 points (opponent's suit controlled)\n",
    "- Double: weak 2-suiter in the unbid suits, 7 - 16 points"
   ]
  },
  {
   "cell_type": "code",
   "execution_count": null,
   "id": "9a0a9050-84fa-4f50-82f0-811ac45ee242",
   "metadata": {},
   "outputs": [],
   "source": []
  }
 ],
 "metadata": {
  "kernelspec": {
   "display_name": "Python 3 (ipykernel)",
   "language": "python",
   "name": "python3"
  },
  "language_info": {
   "codemirror_mode": {
    "name": "ipython",
    "version": 3
   },
   "file_extension": ".py",
   "mimetype": "text/x-python",
   "name": "python",
   "nbconvert_exporter": "python",
   "pygments_lexer": "ipython3",
   "version": "3.13.5"
  }
 },
 "nbformat": 4,
 "nbformat_minor": 5
}
