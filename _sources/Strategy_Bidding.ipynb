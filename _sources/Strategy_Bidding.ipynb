{
 "cells": [
  {
   "cell_type": "markdown",
   "id": "67e78a43-3ff7-4b07-8b26-1633f3a8a078",
   "metadata": {},
   "source": [
    "# Bidding Strategy\n",
    "\n",
    "Blue Club players prefer bids that narrow the possible strength of our hand in terms of points. The $1\\clubsuit$ bid identifies a strong hand but also limits the other suit bids at the level of one. Responder's bids also limit her hand, so the partnership quickly knows their combined strength.\n",
    "\n",
    "While points are vital, suits and fit are even more important in Blue Club. A bridge partnership needs 8 trumps to make game. A <span style = 'color:blue;font-weight:bold'>superfit</span> of 9 or more trumps adds tremendous trick-taking power. Blue Club bids alert partner to interesting features like a long suit, a two-suiter or a void suit."
   ]
  },
  {
   "cell_type": "markdown",
   "id": "c490c9e1-fd9b-479e-a4a4-40bd367f072e",
   "metadata": {},
   "source": [
    "## Hand Strength\n",
    "\n",
    "Bidding narrows our strength to a 5-point range except in No Trump, where the bids (as is typical) identify a balanced hand and a 3-point range. The following chart summarizes our possible hands in terms of strength."
   ]
  },
  {
   "cell_type": "markdown",
   "id": "1d5f0f61-4d5e-4bb3-9df1-476594943935",
   "metadata": {},
   "source": [
    "<table style=\"width:50%\">\n",
    "  <tr>\n",
    "    <th style=\"width:17%\">Points</th> \n",
    "    <th style=\"width:23%\">Hand</th>\n",
    "    <th style=\"width:60%\">Description</th>\n",
    "  </tr>\n",
    "  <tr>\n",
    "    <td style='text-align:center; vertical-align:middle'>7-11</td>\n",
    "    <td style='text-align:center; vertical-align:middle'><b>Weak</b></td>\n",
    "    <td style='text-align:center; vertical-align:middle'>Weak 2 hand: 6+ trumps or solid 5 such as AQxxx or KQJxx.</td>\n",
    "  </tr>\n",
    "  <tr>\n",
    "    <td style='text-align:center; vertical-align:middle'>12-16</td>\n",
    "    <td style='text-align:center; vertical-align:middle'><b>Standard</b></td>\n",
    "    <td style='text-align:center; vertical-align:middle'>Promises 4 trumps: opens 4-card majors.</td>\n",
    "  </tr>\n",
    "  <tr>\n",
    "    <td style='text-align:center; vertical-align:middle'>17-21</td>\n",
    "    <td style='text-align:center; vertical-align:middle'><b>Strong</b></td>\n",
    "    <td style='text-align:center; vertical-align:middle'>Any hand with 17 or more points unsuitable for a No Trump bid. Tends to be distributional.</td>\n",
    "  </tr>\n",
    "  <tr>\n",
    "    <td style='text-align:center; vertical-align:middle'>22+</td>\n",
    "    <td style='text-align:center; vertical-align:middle'><b>Monster</b></td>\n",
    "    <td style='text-align:center; vertical-align:middle'>Any hand with 22 or more points.</td>\n",
    "  </tr>\n",
    "  <tr>\n",
    "    <td style='text-align:center; vertical-align:middle'>15-17</br>18-20</br>21-23</td>\n",
    "    <td style='text-align:center; vertical-align:middle'><b>1 No Trump</br>2 No Trump</br>3 No Trump</td>\n",
    "    <td style='text-align:center; vertical-align:middle'>Balanced hand with at least 3 points in any 2-card suit.</td>\n",
    "  </tr>\n",
    "</table>"
   ]
  },
  {
   "cell_type": "markdown",
   "id": "40a2ee36-4262-4c87-ac5c-680aad081fc7",
   "metadata": {},
   "source": [
    "The ranges fit together neatly:\n",
    "\n",
    "- Standard + Strong = Possible **Slam**.\n",
    "- Standard + Standard = **Game**.\n",
    "- Strong + Weak = **Game**.\n",
    "- Weak + 2NT = **Game**.\n",
    "\n",
    "Within 2 rounds of bidding, if left alone in the auction, the Blue Club players will have a very good understanding of the shape and strength of their combined holdings."
   ]
  },
  {
   "cell_type": "code",
   "execution_count": null,
   "id": "e8064555-a9f6-4319-8914-234a7ac72ed2",
   "metadata": {},
   "outputs": [],
   "source": []
  }
 ],
 "metadata": {
  "kernelspec": {
   "display_name": "Python 3 (ipykernel)",
   "language": "python",
   "name": "python3"
  },
  "language_info": {
   "codemirror_mode": {
    "name": "ipython",
    "version": 3
   },
   "file_extension": ".py",
   "mimetype": "text/x-python",
   "name": "python",
   "nbconvert_exporter": "python",
   "pygments_lexer": "ipython3",
   "version": "3.13.5"
  }
 },
 "nbformat": 4,
 "nbformat_minor": 5
}
