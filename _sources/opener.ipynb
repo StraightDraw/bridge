{
 "cells": [
  {
   "cell_type": "markdown",
   "id": "ac395423-8eb9-45f5-ace6-353eda15606b",
   "metadata": {},
   "source": [
    "# Opening Bids"
   ]
  },
  {
   "cell_type": "markdown",
   "id": "55bfae45-3502-420f-907f-6d3e36eb0529",
   "metadata": {},
   "source": [
    "The strong club nature of Blue Club Dahlonega is obvious in the opening bid charts shown below:"
   ]
  },
  {
   "cell_type": "markdown",
   "id": "e6d41bac-335b-40b9-9b7f-9845414adf57",
   "metadata": {},
   "source": [
    "<table style=\"width:80%\">\n",
    "  <colgroup>\n",
    "  <col span=\"1\" style=\"width: 15%;\">\n",
    "  <col span=\"1\" style=\"width: 20%;\">\n",
    "  <col span=\"1\" style=\"width: 65%;\">\n",
    "    </colgroup>\n",
    "  <tr>\n",
    "    <th>Bid</th>\n",
    "    <th>High Card Points</th> \n",
    "    <th>Meaning</th>\n",
    "  </tr>\n",
    "  <tr>\n",
    "    <td style=\"text-align: center; vertical-align: middle;\">1$\\clubsuit$</td>\n",
    "    <td style=\"text-align: center; vertical-align: middle;\">17 - 21</td>\n",
    "    <td>We alert partner to exceptional values and, typically, to a hand that has distributional qualities as well.</td>\n",
    "  </tr>\n",
    "  <tr>\n",
    "    <td style=\"text-align: center; vertical-align: middle;\">1$\\diamondsuit$ 1$\\heartsuit$ 1$\\spadesuit$</td>\n",
    "    <td style=\"text-align: center; vertical-align: middle;\">12 - 16</td>\n",
    "    <td>Standard opener with at least 4 cards in the suit bid. We use the Rule of 20 to evaluate hands with 11 or 12 HCP.</td>\n",
    "  </tr>\n",
    "  <tr>\n",
    "    <td style=\"text-align: center; vertical-align: middle;\">1NT</td>\n",
    "    <td style=\"text-align: center; vertical-align: middle;\">15 - 17</td>\n",
    "    <td>A balanced hand with no voids or singeltons -- may have a 4-card major unsuitable to open one of that suit.</td>\n",
    "  </tr>\n",
    "  <tr>\n",
    "    <td style=\"text-align: center; vertical-align: middle;\">1$\\clubsuit$ + jump</td>\n",
    "    <td style=\"text-align: center; vertical-align: middle;\">22+</td>\n",
    "    <td>For an **absolute monster**, we open 1$\\clubsuit$ and make a jump raise with our first rebid. After a 2/1 response, a jump-raise also includes at least 4-card support for partner's suit.</td>\n",
    "  </tr>\n",
    "</table"
   ]
  },
  {
   "cell_type": "markdown",
   "id": "2cf89752-025d-42ae-86f7-1bf9d09be53c",
   "metadata": {},
   "source": [
    "We don't have a standard clubs opening bcause 1$\\clubsuit$ is artificial. With 14-16 HCP and at least 2 cards in every suit, we can open 1NT. For 11-13 HCP with at least 3 diamonds, we open 1$\\diamondsuit$ and canape into clubs. The NT bid is only slightly light on points and is thus not much trouble. The diamond opening can be awkward, yet when partner sees us bid clubs next they understand that diamonds was used on a troublesome hand with no other way to open it."
   ]
  },
  {
   "cell_type": "markdown",
   "id": "b8ebde0b-5497-417e-9ad7-5778825f900c",
   "metadata": {},
   "source": [
    "## Preemptive Bids\n",
    "\n",
    "Suit bids at levels 2, 3, and 4 are preemptive. Caution should be used if we try a preempt before partner has had a chance to bid. A passed hand is much better than the absolute disaster of preempting partner rather than the opponents."
   ]
  },
  {
   "cell_type": "markdown",
   "id": "023932e2-08c7-46d5-8f50-f0d8418998b4",
   "metadata": {},
   "source": [
    "<table style=\"width:80%\">\n",
    "  <colgroup>\n",
    "  <col span=\"1\" style=\"width: 15%;\">\n",
    "  <col span=\"1\" style=\"width: 20%;\">\n",
    "  <col span=\"1\" style=\"width: 65%;\">\n",
    "    </colgroup>\n",
    "  <tr>\n",
    "    <th>Bid</th>\n",
    "    <th>High Card Points</th> \n",
    "    <th>Meaning</th>\n",
    "  </tr>\n",
    "  <tr>\n",
    "    <td style=\"text-align: center; vertical-align: middle;\">2$\\clubsuit$ 2$\\diamondsuit$ 2$\\heartsuit$ 2$\\spadesuit$</td>\n",
    "    <td style=\"text-align: center; vertical-align: middle;\">7 - 11</td>\n",
    "    <td>Weak 2 bid with at least 6 cards in the suit bid. We can bid this with only 5 cards if we have good points in the trump suit.</td>\n",
    "  </tr>\n",
    "  <tr>\n",
    "    <td style=\"text-align: center; vertical-align: middle;\">3$\\clubsuit$ 3$\\diamondsuit$ 3$\\heartsuit$ 3$\\spadesuit$</td>\n",
    "    <td style=\"text-align: center; vertical-align: middle;\">7 - 11</td>\n",
    "    <td>Preemptive with at least 7 cards in the suit bid.</td>\n",
    "  </tr>\n",
    "</table"
   ]
  },
  {
   "cell_type": "markdown",
   "id": "44753cbc-0ce7-4f60-85aa-1d40a69faeb2",
   "metadata": {},
   "source": [
    "The 4$\\clubsuit$, 4$\\diamondsuit$, 4$\\heartsuit$, 4$\\spadesuit$ preempt should almost never be used. The pains of a contract set are higher at the game level, and we can rebid after a 3-level preempt instead."
   ]
  },
  {
   "cell_type": "markdown",
   "id": "6680388b-ca62-43ed-bef5-bb34c614cca6",
   "metadata": {},
   "source": [
    "## No Trump Hands\n",
    "\n",
    "When we bid 2NT or 3NT in Blue Club, we're bidding a hand that could be opened with 1$\\clubsuit$. Thus, we are signalling these hands are proper and perfect no trump hands:\n",
    "- No biddable 5-card suits.\n",
    "- No voids or singletons.\n",
    "- HCP in at least 3 suits."
   ]
  },
  {
   "cell_type": "markdown",
   "id": "7432e991-282b-40ab-b164-978996462d68",
   "metadata": {},
   "source": [
    "<table style=\"width:80%\">\n",
    "  <colgroup>\n",
    "  <col span=\"1\" style=\"width: 15%;\">\n",
    "  <col span=\"1\" style=\"width: 20%;\">\n",
    "  <col span=\"1\" style=\"width: 65%;\">\n",
    "    </colgroup>\n",
    "  <tr>\n",
    "    <th>Bid</th>\n",
    "    <th>High Card Points</th> \n",
    "    <th>Meaning</th>\n",
    "  </tr>\n",
    "  <tr>\n",
    "    <td style=\"text-align: center; vertical-align: middle;\">2NT</td>\n",
    "    <td style=\"text-align: center; vertical-align: middle;\">18 - 20</td>\n",
    "    <td>A balanced hand with no voids or singeltons. We may have a 4-card major but no 5-card suits. The 5-card suits will be opened with 1$\\clubsuit$.</td>\n",
    "  </tr>\n",
    "  <tr>\n",
    "    <td style=\"text-align: center; vertical-align: middle;\">3NT</td>\n",
    "    <td style=\"text-align: center; vertical-align: middle;\">21 - 23</td>\n",
    "    <td>Balanced hand, and big.</td>\n",
    "  </tr>\n",
    "</table"
   ]
  }
 ],
 "metadata": {
  "kernelspec": {
   "display_name": "Python 3 (ipykernel)",
   "language": "python",
   "name": "python3"
  },
  "language_info": {
   "codemirror_mode": {
    "name": "ipython",
    "version": 3
   },
   "file_extension": ".py",
   "mimetype": "text/x-python",
   "name": "python",
   "nbconvert_exporter": "python",
   "pygments_lexer": "ipython3",
   "version": "3.12.8"
  }
 },
 "nbformat": 4,
 "nbformat_minor": 5
}
