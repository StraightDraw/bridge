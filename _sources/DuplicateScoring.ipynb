{
 "cells": [
  {
   "cell_type": "markdown",
   "id": "679a886d-4cde-4421-8f93-c81eb769f175",
   "metadata": {},
   "source": [
    "# Scoring Well at Duplicate\n",
    "\n",
    "Much of the competitive bridge space is filled by duplicate tournaments where every partnership plays every hand. Thus, to determine if we're doing well, our system must lead to good scores at duplicate."
   ]
  },
  {
   "cell_type": "markdown",
   "id": "51d54a59-d687-4117-9e4c-2e396552e2a4",
   "metadata": {},
   "source": [
    "## Points per Trick\n",
    "\n",
    "The baseline scoring happens whenever declarer's team takes more than 6 tricks. No points are earned for those first six \"book\" tricks. For given contract suits, here are the points earned:\n",
    "\n",
    "- No Trump: 30 points / trick (after 40 earned for 1st trick)\n",
    "- Major Suit: 30 points / trick\n",
    "- Minor Suit: 20 points/ trick\n",
    "\n",
    "With a 300 point bonus for making a game contract (500 if vulnerable), we have the following points earned for making **game**:\n",
    "\n",
    "- No Trump: 400 points\n",
    "- Major Suit: 420 points\n",
    "- Minor Suit: 400 points"
   ]
  },
  {
   "cell_type": "code",
   "execution_count": null,
   "id": "003a51f4-18f4-426d-a76b-440705e6ca03",
   "metadata": {},
   "outputs": [],
   "source": []
  }
 ],
 "metadata": {
  "kernelspec": {
   "display_name": "Python 3 (ipykernel)",
   "language": "python",
   "name": "python3"
  },
  "language_info": {
   "codemirror_mode": {
    "name": "ipython",
    "version": 3
   },
   "file_extension": ".py",
   "mimetype": "text/x-python",
   "name": "python",
   "nbconvert_exporter": "python",
   "pygments_lexer": "ipython3",
   "version": "3.13.5"
  }
 },
 "nbformat": 4,
 "nbformat_minor": 5
}
