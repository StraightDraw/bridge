{
 "cells": [
  {
   "cell_type": "markdown",
   "id": "ac395423-8eb9-45f5-ace6-353eda15606b",
   "metadata": {},
   "source": [
    "# Responding Bids"
   ]
  },
  {
   "cell_type": "markdown",
   "id": "55bfae45-3502-420f-907f-6d3e36eb0529",
   "metadata": {},
   "source": [
    "Blue Club Dahlonega embraces the limiting nature of nearly every opening bid. Responder has only limit bids to offer with 2/1 bids game forcing as in most modern systems. A quick overview of responses shows the outline of the limit bids:\n",
    "- Lowest level: 7-11 HCP.\n",
    "- Raise: 12-16 HCP (standard 2/1 bid).\n",
    "- Jump raise: 17-21 HCP\n",
    "- Double-jump raise: Splinter\n",
    "\n",
    "The \"2 over 1\" promises standard opening values as is typical in modern bridge systems. A jump raise indicates a monster hand 17 - 21 HCP. A triple jump raise is a splinter bid indicating 4-card support or better for partner's suit and control of the suit bid. A splinter bid is forcing to game and indicates at least 12 points."
   ]
  },
  {
   "cell_type": "markdown",
   "id": "6551e57d-6992-4cfb-8628-cb5ecf7ac4c3",
   "metadata": {},
   "source": [
    "## Responding to an Opening Bid of 1$\\diamondsuit$, 1$\\heartsuit$ or 1$\\spadesuit$"
   ]
  },
  {
   "cell_type": "markdown",
   "id": "d38ff7f6-cdc2-44eb-bb11-17788784c5a7",
   "metadata": {},
   "source": [
    "```{list-table}\n",
    ":header-rows: 1\n",
    "\n",
    "* - Response Bid\n",
    "  - High Card Points\n",
    "  - Meaning\n",
    "* - 1$\\heartsuit$ 1$\\spadesuit$\n",
    "  - 7 - 11\n",
    "  - Game values unlikely, bu at least 4 cards in suit bid.\n",
    "* - 1NT\n",
    "  - 7 - 11\n",
    "  - Denial of fit with game values unlikely, this bid give opener the chance to show a second suit with a canape bid.\n",
    "* - 2$\\clubsuit$ 2$\\diamondsuit$ </br> 2$\\heartsuit$ 2$\\spadesuit$\n",
    "  - 12 - 16\n",
    "  - Typical 2/1 game force, at least 4 cards in suit bid.\n",
    "* - 2NT\n",
    "  - 12 - 16\n",
    "  - Balanced, poor support for partner's suit.\n",
    "* - 3$\\clubsuit$ 3$\\diamondsuit$ </br> 3$\\heartsuit$ 3$\\spadesuit$\n",
    "  - 17 - 21\n",
    "  - This 3/1 is game forcing and slam seaking, at least 4 cards in suit bid.\n",
    "* - 3NT\n",
    "  - 17 - 21\n",
    "  - Balanced, poor support for partner's suit.\n",
    "* - 4$\\clubsuit$ 4$\\diamondsuit$ </br> 4$\\heartsuit$ 4$\\spadesuit$\n",
    "  - 15 - 21\n",
    "  - Spliner bid, game forcing and likely slam seaking. At least 4 card support for partner's suit with 1st round control of suit bid.\n",
    "```"
   ]
  },
  {
   "cell_type": "markdown",
   "id": "0088eb56-cca7-4c0e-807f-21d8ee34f07b",
   "metadata": {},
   "source": [
    "## Responding to an Opening Bid of 1$\\clubsuit$"
   ]
  },
  {
   "cell_type": "markdown",
   "id": "25def3a1-23b8-463c-af14-1cf169b0e2d9",
   "metadata": {},
   "source": [
    "```{list-table}\n",
    ":header-rows: 1\n",
    "\n",
    "* - Response Bid\n",
    "  - High Card Points\n",
    "  - Meaning\n",
    "* - 1$\\diamondsuit$\n",
    "  - 7 - 11\n",
    "  - At least 4 diamonds. Can also be strong clubs with no other way to bid. Promises at least 3 diamonds even if it a stand-in for a club bid.\n",
    "* - 1$\\heartsuit$ 1$\\spadesuit$\n",
    "  - 7 - 11\n",
    "  - At least 4 cards in suit bid.\n",
    "* - 1NT\n",
    "  - 7 - 11\n",
    "  - Balanced, denial, gives partner a second chance to show values.\n",
    "* - 2$\\clubsuit$ 2$\\diamondsuit$ </br> 2$\\heartsuit$ 2$\\spadesuit$\n",
    "  - 12 - 16\n",
    "  - At least 4 cards in suit bid.\n",
    "* - 2NT\n",
    "  - 12 - 16\n",
    "  - Balanced, poor support for partner's suit. Partnership may have values for small slam.\n",
    "* - 3$\\clubsuit$ 3$\\diamondsuit$ </br> 3$\\heartsuit$ 3$\\spadesuit$\n",
    "  - 17 - 21\n",
    "  - Slam seaking, at least 4 cards in suit bid.\n",
    "* - 3NT\n",
    "  - 17 - 21\n",
    "  - Balanced, awaiting developments. Slam values guaranteed, need fit.\n",
    "```"
   ]
  },
  {
   "cell_type": "markdown",
   "id": "8b1ebd64-5c35-40ca-9396-9353cf6f6dc1",
   "metadata": {},
   "source": [
    "## Responding to an Opening Bid of 1NT"
   ]
  },
  {
   "cell_type": "markdown",
   "id": "63cbb4a2-c821-4494-bf01-3527376e8382",
   "metadata": {},
   "source": [
    "```{list-table}\n",
    ":header-rows: 1\n",
    "\n",
    "* - Response Bid\n",
    "  - High Card Points\n",
    "  - Meaning\n",
    "* - 2$\\clubsuit$\n",
    "  - 12 - 16\n",
    "  - **Stayman:** 5-4 or better in the majors, game forcing.\n",
    "* - 2$\\diamondsuit$ 2$\\heartsuit$ 2$\\spadesuit$\n",
    "  - 7 - 11\n",
    "  - Waiting, game possible, 4 or more cards in the suit bid.\n",
    "* - 3$\\clubsuit$ 3$\\diamondsuit$ </br> 3$\\heartsuit$ 3$\\spadesuit$\n",
    "  - 12 - 16\n",
    "  - At least 4 cards in suit bid. Slam unlikely, but possible.\n",
    "* - 2NT\n",
    "  - 12 - 16\n",
    "  - Balanced, waiting. Game force, but partnership may have values for small slam.\n",
    "* - 3$\\clubsuit$ 3$\\diamondsuit$ </br> 3$\\heartsuit$ 3$\\spadesuit$\n",
    "  - 17 - 21\n",
    "  - Slam seaking, at least 4 cards in suit bid.\n",
    "* - 3NT\n",
    "  - 15 - 17\n",
    "  - Balanced, slam invitational.\n",
    "```"
   ]
  },
  {
   "cell_type": "markdown",
   "id": "64246ba9-a9d5-4bf0-bd75-e6f2144d762f",
   "metadata": {},
   "source": [
    "A difficulty arises when the responder to 1NT has 7 - 11 HCP and a balanced hand. Bidding 2 NT will mislead partner about the high card points we have. Responder must bid a 4-card suit, but that suit might be weak. However, there is no better solution."
   ]
  }
 ],
 "metadata": {
  "kernelspec": {
   "display_name": "Python 3 (ipykernel)",
   "language": "python",
   "name": "python3"
  },
  "language_info": {
   "codemirror_mode": {
    "name": "ipython",
    "version": 3
   },
   "file_extension": ".py",
   "mimetype": "text/x-python",
   "name": "python",
   "nbconvert_exporter": "python",
   "pygments_lexer": "ipython3",
   "version": "3.8.20"
  }
 },
 "nbformat": 4,
 "nbformat_minor": 5
}
